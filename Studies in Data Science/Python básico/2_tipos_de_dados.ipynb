{
 "cells": [
  {
   "cell_type": "markdown",
   "id": "4eb9b2da",
   "metadata": {},
   "source": [
    "## Tipos de Dados\n",
    "\n",
    "- Int (1,2,3,4....10000)\n",
    "- Float (1.0, 1.1, 1.2, 1.3... 1000000.0)\n",
    "- String (Ex: dados de texto como nome, categorias...)\n",
    "- Boolean (True ou False)\n",
    "- Null (None)"
   ]
  },
  {
   "cell_type": "markdown",
   "id": "795facc7",
   "metadata": {},
   "source": [
    "### Definindo os tipos de dados"
   ]
  },
  {
   "cell_type": "code",
   "execution_count": 23,
   "id": "d7747bd6",
   "metadata": {
    "ExecuteTime": {
     "end_time": "2021-10-16T13:55:02.495637Z",
     "start_time": "2021-10-16T13:55:02.478631Z"
    }
   },
   "outputs": [],
   "source": [
    "idade = 27        ##Int\n",
    "salario = 10.0    ##float\n",
    "nome = 'Nicksson' ##String\n",
    "brasileiro = True ## Boleano\n",
    "fumo = False      ## Boleano\n",
    "senha = None      ## Sem típo"
   ]
  },
  {
   "cell_type": "markdown",
   "id": "f0d3cf19",
   "metadata": {
    "ExecuteTime": {
     "end_time": "2021-10-16T13:53:41.848108Z",
     "start_time": "2021-10-16T13:53:41.839106Z"
    }
   },
   "source": [
    "### Converter tipos de dados"
   ]
  },
  {
   "cell_type": "markdown",
   "id": "79c97633",
   "metadata": {
    "ExecuteTime": {
     "end_time": "2021-10-16T13:55:50.886622Z",
     "start_time": "2021-10-16T13:55:50.877621Z"
    }
   },
   "source": [
    "- inteiro para float"
   ]
  },
  {
   "cell_type": "code",
   "execution_count": 25,
   "id": "ad028170",
   "metadata": {
    "ExecuteTime": {
     "end_time": "2021-10-16T13:56:07.519419Z",
     "start_time": "2021-10-16T13:56:07.510413Z"
    }
   },
   "outputs": [],
   "source": [
    "salario = 100"
   ]
  },
  {
   "cell_type": "code",
   "execution_count": 26,
   "id": "f589fcd9",
   "metadata": {
    "ExecuteTime": {
     "end_time": "2021-10-16T13:56:13.006231Z",
     "start_time": "2021-10-16T13:56:12.998232Z"
    }
   },
   "outputs": [
    {
     "data": {
      "text/plain": [
       "int"
      ]
     },
     "execution_count": 26,
     "metadata": {},
     "output_type": "execute_result"
    }
   ],
   "source": [
    "type(salario)"
   ]
  },
  {
   "cell_type": "code",
   "execution_count": 28,
   "id": "7f97e60a",
   "metadata": {
    "ExecuteTime": {
     "end_time": "2021-10-16T13:56:49.486755Z",
     "start_time": "2021-10-16T13:56:49.470755Z"
    }
   },
   "outputs": [],
   "source": [
    "salario = float(salario)"
   ]
  },
  {
   "cell_type": "code",
   "execution_count": 29,
   "id": "e8d05edd",
   "metadata": {
    "ExecuteTime": {
     "end_time": "2021-10-16T13:56:52.653832Z",
     "start_time": "2021-10-16T13:56:52.638207Z"
    }
   },
   "outputs": [
    {
     "data": {
      "text/plain": [
       "float"
      ]
     },
     "execution_count": 29,
     "metadata": {},
     "output_type": "execute_result"
    }
   ],
   "source": [
    "type(salario)"
   ]
  },
  {
   "cell_type": "markdown",
   "id": "8973244b",
   "metadata": {},
   "source": [
    "- float para string"
   ]
  },
  {
   "cell_type": "code",
   "execution_count": 30,
   "id": "9049de39",
   "metadata": {
    "ExecuteTime": {
     "end_time": "2021-10-16T13:57:31.949220Z",
     "start_time": "2021-10-16T13:57:31.934219Z"
    }
   },
   "outputs": [],
   "source": [
    "idade = 50.0"
   ]
  },
  {
   "cell_type": "code",
   "execution_count": 31,
   "id": "b6b0936f",
   "metadata": {
    "ExecuteTime": {
     "end_time": "2021-10-16T13:57:36.965687Z",
     "start_time": "2021-10-16T13:57:36.958686Z"
    }
   },
   "outputs": [
    {
     "data": {
      "text/plain": [
       "float"
      ]
     },
     "execution_count": 31,
     "metadata": {},
     "output_type": "execute_result"
    }
   ],
   "source": [
    "type(idade)"
   ]
  },
  {
   "cell_type": "code",
   "execution_count": 33,
   "id": "98e4d63f",
   "metadata": {
    "ExecuteTime": {
     "end_time": "2021-10-16T13:57:52.066646Z",
     "start_time": "2021-10-16T13:57:52.061646Z"
    }
   },
   "outputs": [],
   "source": [
    "idade = int(idade)"
   ]
  },
  {
   "cell_type": "code",
   "execution_count": 34,
   "id": "f30c0ba8",
   "metadata": {
    "ExecuteTime": {
     "end_time": "2021-10-16T13:57:54.682251Z",
     "start_time": "2021-10-16T13:57:54.670252Z"
    }
   },
   "outputs": [
    {
     "data": {
      "text/plain": [
       "int"
      ]
     },
     "execution_count": 34,
     "metadata": {},
     "output_type": "execute_result"
    }
   ],
   "source": [
    "type(idade)"
   ]
  },
  {
   "cell_type": "markdown",
   "id": "874d8688",
   "metadata": {
    "ExecuteTime": {
     "end_time": "2021-10-16T13:58:13.845564Z",
     "start_time": "2021-10-16T13:58:13.837565Z"
    }
   },
   "source": [
    "- int(1.0)\n",
    "- str()\n",
    "- float()"
   ]
  },
  {
   "cell_type": "markdown",
   "id": "63868a6e",
   "metadata": {},
   "source": [
    "## Agora é sua vez\n",
    "\n",
    "1) Crie um programa que receberá nome, idade, salário e brasileiro. o nome é uma variável String, a idade é uma variável inteira, o salário é uma variável float e brasileiro é uma variável boleana. \n",
    "\n",
    "2) Converta o a variável idade para float e a variável brasileiro para string.\n",
    "\n",
    "3) Verifique o tipo de cada variável e imprima os valores e seus tipos conforme a saída abaixo:\n",
    "\n",
    "**Saída:** \n",
    "- 'a variável idade é do tipo: {TIPO_DA_VARIAVEL}'\n",
    "- 'a variável brasileiro é do tipo: {TIPO_DA_VARIAVEL}'\n",
    "- 'a variável nome é do tipo: {TIPO_DA_VARIAVEL}"
   ]
  },
  {
   "cell_type": "code",
   "execution_count": 42,
   "id": "c07b76e1",
   "metadata": {
    "ExecuteTime": {
     "end_time": "2021-10-16T14:09:23.567409Z",
     "start_time": "2021-10-16T14:09:23.562410Z"
    }
   },
   "outputs": [],
   "source": [
    "nome = 'Nicksson' ##String\n",
    "idade = 27        ##Int\n",
    "salario = 10.0    ##float\n",
    "brasileiro = True ## Boleano"
   ]
  },
  {
   "cell_type": "code",
   "execution_count": 46,
   "id": "3b0a5669",
   "metadata": {
    "ExecuteTime": {
     "end_time": "2021-10-16T14:10:13.056114Z",
     "start_time": "2021-10-16T14:10:13.041112Z"
    }
   },
   "outputs": [],
   "source": [
    "idade = float(idade)\n",
    "brasileiro = str(brasileiro)"
   ]
  },
  {
   "cell_type": "code",
   "execution_count": 45,
   "id": "4a787d22",
   "metadata": {
    "ExecuteTime": {
     "end_time": "2021-10-16T14:10:01.018593Z",
     "start_time": "2021-10-16T14:10:01.001594Z"
    }
   },
   "outputs": [
    {
     "data": {
      "text/plain": [
       "True"
      ]
     },
     "execution_count": 45,
     "metadata": {},
     "output_type": "execute_result"
    }
   ],
   "source": [
    "print('a variável idade é do tipo: {TIPO_DA_VARIAVEL}')\n",
    "- 'a variável brasileiro é do tipo: {TIPO_DA_VARIAVEL}'\n",
    "- 'a variável nome é do tipo: {TIPO_DA_VARIAVEL}"
   ]
  },
  {
   "cell_type": "code",
   "execution_count": null,
   "id": "a590d1a2",
   "metadata": {},
   "outputs": [],
   "source": []
  }
 ],
 "metadata": {
  "kernelspec": {
   "display_name": "Python 3",
   "language": "python",
   "name": "python3"
  },
  "language_info": {
   "codemirror_mode": {
    "name": "ipython",
    "version": 3
   },
   "file_extension": ".py",
   "mimetype": "text/x-python",
   "name": "python",
   "nbconvert_exporter": "python",
   "pygments_lexer": "ipython3",
   "version": "3.8.11"
  }
 },
 "nbformat": 4,
 "nbformat_minor": 5
}
