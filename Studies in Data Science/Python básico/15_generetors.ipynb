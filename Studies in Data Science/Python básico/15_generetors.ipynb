{
 "cells": [
  {
   "cell_type": "markdown",
   "metadata": {},
   "source": [
    "# Curso de Python Básico\n",
    "\n",
    "Este é um curso básico de python que tem o objetivo de apresentar a linguagem python de uma **maneira rápida e objetiva**. Vamos direto ao ponto nos conceitos básicos da programação e python com muita mão na massa! \n",
    "\n",
    "Neste curso, vamos trabalhar no **modo iterativo** do python. Porém, entenda que você pode trabalhar no modo script com várias linhas de código usando um arquivo no formato .py.\n",
    "\n",
    "Ao final desse Curso, espero que você se aprenda python e se motive cada vez mais em utilizar a linguagem para diversas tarefas e problemas do mundo real.\n",
    "\n",
    "Este notebook vai apenas passar pelos tópicos básicos em ordem:\n",
    "\n",
    "* 8. Python intermediário\n",
    "    * 8.1 List Comprehension\n",
    "    * 8.2 Generators\n",
    "    * 8.3 Tratando erros em Python\n",
    "    * 8.4 Lidando com String\n",
    "    * 8.5 Lidando com datas e tempo"
   ]
  },
  {
   "cell_type": "markdown",
   "metadata": {
    "ExecuteTime": {
     "end_time": "2021-08-27T14:41:00.259327Z",
     "start_time": "2021-08-27T14:41:00.248329Z"
    }
   },
   "source": [
    "##### 8.2 Generators \n",
    "\n",
    "Um recurso para criar iterators em python. Um generator é uma função que retorna um objeto que podemos interar sobre ele. Um generator não armazena todos os valores em memória, eles geram os valores interando sobre os dados. A maioria dos generators são implementados como função"
   ]
  },
  {
   "cell_type": "code",
   "execution_count": 14,
   "metadata": {
    "ExecuteTime": {
     "end_time": "2021-09-28T17:44:51.278125Z",
     "start_time": "2021-09-28T17:44:51.276121Z"
    }
   },
   "outputs": [],
   "source": [
    "def count():\n",
    "    for i in range(10):\n",
    "        yield i"
   ]
  },
  {
   "cell_type": "code",
   "execution_count": 15,
   "metadata": {
    "ExecuteTime": {
     "end_time": "2021-09-28T17:45:01.042064Z",
     "start_time": "2021-09-28T17:45:01.036061Z"
    }
   },
   "outputs": [
    {
     "data": {
      "text/plain": [
       "<generator object count at 0x00000226B0296040>"
      ]
     },
     "execution_count": 15,
     "metadata": {},
     "output_type": "execute_result"
    }
   ],
   "source": [
    "count()"
   ]
  },
  {
   "cell_type": "code",
   "execution_count": 16,
   "metadata": {
    "ExecuteTime": {
     "end_time": "2021-09-28T17:47:39.663650Z",
     "start_time": "2021-09-28T17:47:39.651647Z"
    }
   },
   "outputs": [
    {
     "name": "stdout",
     "output_type": "stream",
     "text": [
      "0\n",
      "1\n",
      "2\n",
      "3\n",
      "4\n",
      "5\n",
      "6\n",
      "7\n",
      "8\n",
      "9\n"
     ]
    }
   ],
   "source": [
    "for item in count():\n",
    "    print(item)"
   ]
  },
  {
   "cell_type": "code",
   "execution_count": 17,
   "metadata": {
    "ExecuteTime": {
     "end_time": "2021-09-28T17:48:58.413515Z",
     "start_time": "2021-09-28T17:48:58.395516Z"
    }
   },
   "outputs": [],
   "source": [
    "# generator version\n",
    "def fibonacci(n):\n",
    "    a = b = 1\n",
    "    for i in range(n):\n",
    "        yield a\n",
    "        a, b = b, a + b"
   ]
  },
  {
   "cell_type": "code",
   "execution_count": 18,
   "metadata": {
    "ExecuteTime": {
     "end_time": "2021-09-28T17:49:04.492096Z",
     "start_time": "2021-09-28T17:49:04.483096Z"
    }
   },
   "outputs": [
    {
     "name": "stdout",
     "output_type": "stream",
     "text": [
      "1\n",
      "1\n",
      "2\n",
      "3\n",
      "5\n",
      "8\n",
      "13\n",
      "21\n",
      "34\n",
      "55\n"
     ]
    }
   ],
   "source": [
    "for x in fibonacci(10):\n",
    "    print(x)"
   ]
  },
  {
   "cell_type": "code",
   "execution_count": 19,
   "metadata": {
    "ExecuteTime": {
     "end_time": "2021-09-28T17:49:09.056310Z",
     "start_time": "2021-09-28T17:49:09.050311Z"
    }
   },
   "outputs": [],
   "source": [
    "sequencia = fibonacci(10)"
   ]
  },
  {
   "cell_type": "code",
   "execution_count": 26,
   "metadata": {
    "ExecuteTime": {
     "end_time": "2021-09-28T17:50:15.772417Z",
     "start_time": "2021-09-28T17:50:15.755423Z"
    }
   },
   "outputs": [
    {
     "data": {
      "text/plain": [
       "<generator object fibonacci at 0x00000226B0296350>"
      ]
     },
     "execution_count": 26,
     "metadata": {},
     "output_type": "execute_result"
    }
   ],
   "source": [
    "sequencia"
   ]
  },
  {
   "cell_type": "code",
   "execution_count": 25,
   "metadata": {
    "ExecuteTime": {
     "end_time": "2021-09-28T17:50:01.165329Z",
     "start_time": "2021-09-28T17:50:01.162329Z"
    }
   },
   "outputs": [
    {
     "data": {
      "text/plain": [
       "5"
      ]
     },
     "execution_count": 25,
     "metadata": {},
     "output_type": "execute_result"
    }
   ],
   "source": [
    "next(sequencia)"
   ]
  },
  {
   "cell_type": "code",
   "execution_count": 27,
   "metadata": {
    "ExecuteTime": {
     "end_time": "2021-09-28T17:50:34.766194Z",
     "start_time": "2021-09-28T17:50:34.754193Z"
    }
   },
   "outputs": [
    {
     "data": {
      "text/plain": [
       "8"
      ]
     },
     "execution_count": 27,
     "metadata": {},
     "output_type": "execute_result"
    }
   ],
   "source": [
    "next(sequencia)"
   ]
  },
  {
   "cell_type": "code",
   "execution_count": 28,
   "metadata": {
    "ExecuteTime": {
     "end_time": "2021-09-28T17:50:43.036514Z",
     "start_time": "2021-09-28T17:50:43.018516Z"
    }
   },
   "outputs": [],
   "source": [
    "# criando objeto iterável\n",
    "String = 'Meu Nome é Nicksson'\n",
    "it_String = iter(String)"
   ]
  },
  {
   "cell_type": "code",
   "execution_count": 30,
   "metadata": {
    "ExecuteTime": {
     "end_time": "2021-09-28T17:50:58.971172Z",
     "start_time": "2021-09-28T17:50:58.963174Z"
    }
   },
   "outputs": [
    {
     "data": {
      "text/plain": [
       "<str_iterator at 0x226b0856d90>"
      ]
     },
     "execution_count": 30,
     "metadata": {},
     "output_type": "execute_result"
    }
   ],
   "source": [
    "it_String"
   ]
  },
  {
   "cell_type": "code",
   "execution_count": 36,
   "metadata": {
    "ExecuteTime": {
     "end_time": "2021-09-28T17:51:25.303888Z",
     "start_time": "2021-09-28T17:51:25.290889Z"
    }
   },
   "outputs": [
    {
     "data": {
      "text/plain": [
       "'o'"
      ]
     },
     "execution_count": 36,
     "metadata": {},
     "output_type": "execute_result"
    }
   ],
   "source": [
    "next(it_String)"
   ]
  },
  {
   "cell_type": "code",
   "execution_count": 37,
   "metadata": {
    "ExecuteTime": {
     "end_time": "2021-09-28T17:51:25.525888Z",
     "start_time": "2021-09-28T17:51:25.521887Z"
    }
   },
   "outputs": [],
   "source": [
    "# criando objeto iterável\n",
    "my_list = iter([1,2,3,4,5,6,7,8,9,10])"
   ]
  },
  {
   "cell_type": "code",
   "execution_count": 38,
   "metadata": {
    "ExecuteTime": {
     "end_time": "2021-09-28T17:51:25.916501Z",
     "start_time": "2021-09-28T17:51:25.898486Z"
    }
   },
   "outputs": [
    {
     "data": {
      "text/plain": [
       "1"
      ]
     },
     "execution_count": 38,
     "metadata": {},
     "output_type": "execute_result"
    }
   ],
   "source": [
    "next(my_list)"
   ]
  },
  {
   "cell_type": "code",
   "execution_count": null,
   "metadata": {},
   "outputs": [],
   "source": []
  }
 ],
 "metadata": {
  "kernelspec": {
   "display_name": "Python 3",
   "language": "python",
   "name": "python3"
  },
  "language_info": {
   "codemirror_mode": {
    "name": "ipython",
    "version": 3
   },
   "file_extension": ".py",
   "mimetype": "text/x-python",
   "name": "python",
   "nbconvert_exporter": "python",
   "pygments_lexer": "ipython3",
   "version": "3.8.11"
  }
 },
 "nbformat": 4,
 "nbformat_minor": 1
}
