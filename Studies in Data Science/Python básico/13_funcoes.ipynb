{
 "cells": [
  {
   "cell_type": "markdown",
   "metadata": {},
   "source": [
    "# Curso de Python Básico\n",
    "\n",
    "Este é um curso básico de python que tem o objetivo de apresentar a linguagem python de uma **maneira rápida e objetiva**. Vamos direto ao ponto nos conceitos básicos da programação e python com muita mão na massa! \n",
    "\n",
    "Neste curso, vamos trabalhar no **modo iterativo** do python. Porém, entenda que você pode trabalhar no modo script com várias linhas de código usando um arquivo no formato .py.\n",
    "\n",
    "Ao final desse Curso, espero que você se aprenda python e se motive cada vez mais em utilizar a linguagem para diversas tarefas e problemas do mundo real.\n",
    "\n",
    "Este notebook vai apenas passar pelos tópicos básicos em ordem:\n",
    "\n",
    "* 7. funções\n",
    "    * 7.1 Funções SEM retorno\n",
    "    * 7.2 Funções COM retorno\n",
    "    * 7.3 Funções anônimas (lambda)\n",
    "    * 7.4 map e filter\n",
    "  "
   ]
  },
  {
   "cell_type": "markdown",
   "metadata": {},
   "source": [
    "## 7. Funções\n",
    "##### 7.1 Funções SEM retorno"
   ]
  },
  {
   "cell_type": "code",
   "execution_count": 12,
   "metadata": {
    "ExecuteTime": {
     "end_time": "2021-09-28T17:03:04.498984Z",
     "start_time": "2021-09-28T17:03:04.493984Z"
    }
   },
   "outputs": [],
   "source": [
    "def imprimir(nome): \n",
    "    print('Meu nome é: {}'.format(nome))"
   ]
  },
  {
   "cell_type": "code",
   "execution_count": 18,
   "metadata": {
    "ExecuteTime": {
     "end_time": "2021-09-28T17:03:24.225643Z",
     "start_time": "2021-09-28T17:03:24.221642Z"
    }
   },
   "outputs": [
    {
     "name": "stdout",
     "output_type": "stream",
     "text": [
      "primeira funcao\n"
     ]
    }
   ],
   "source": [
    "nome_da_funcao()"
   ]
  },
  {
   "cell_type": "code",
   "execution_count": 14,
   "metadata": {
    "ExecuteTime": {
     "end_time": "2021-09-28T17:03:06.162703Z",
     "start_time": "2021-09-28T17:03:06.149704Z"
    }
   },
   "outputs": [
    {
     "name": "stdout",
     "output_type": "stream",
     "text": [
      "Meu nome é: João\n"
     ]
    }
   ],
   "source": [
    "imprimir('João')"
   ]
  },
  {
   "cell_type": "markdown",
   "metadata": {
    "ExecuteTime": {
     "end_time": "2021-08-27T14:56:09.337667Z",
     "start_time": "2021-08-27T14:56:09.322667Z"
    }
   },
   "source": [
    "##### 7.2 Funções COM retorno"
   ]
  },
  {
   "cell_type": "code",
   "execution_count": 19,
   "metadata": {
    "ExecuteTime": {
     "end_time": "2021-09-28T17:04:07.346651Z",
     "start_time": "2021-09-28T17:04:07.333650Z"
    }
   },
   "outputs": [],
   "source": [
    "def soma(a, b):\n",
    "    return a+b"
   ]
  },
  {
   "cell_type": "code",
   "execution_count": 20,
   "metadata": {
    "ExecuteTime": {
     "end_time": "2021-09-28T17:04:15.530665Z",
     "start_time": "2021-09-28T17:04:15.517666Z"
    }
   },
   "outputs": [],
   "source": [
    "valor = soma(10, 5)"
   ]
  },
  {
   "cell_type": "code",
   "execution_count": 22,
   "metadata": {
    "ExecuteTime": {
     "end_time": "2021-09-28T17:04:26.500248Z",
     "start_time": "2021-09-28T17:04:26.486248Z"
    }
   },
   "outputs": [],
   "source": [
    "def square(x):\n",
    "    return x**0.5"
   ]
  },
  {
   "cell_type": "code",
   "execution_count": 24,
   "metadata": {
    "ExecuteTime": {
     "end_time": "2021-09-28T17:04:30.284021Z",
     "start_time": "2021-09-28T17:04:30.270024Z"
    }
   },
   "outputs": [
    {
     "data": {
      "text/plain": [
       "5.0"
      ]
     },
     "execution_count": 24,
     "metadata": {},
     "output_type": "execute_result"
    }
   ],
   "source": [
    "out = square(25)"
   ]
  },
  {
   "cell_type": "markdown",
   "metadata": {},
   "source": [
    "##### 7.3 Funções anônimas (lambda)"
   ]
  },
  {
   "cell_type": "code",
   "execution_count": 30,
   "metadata": {
    "ExecuteTime": {
     "end_time": "2021-09-28T17:10:58.249418Z",
     "start_time": "2021-09-28T17:10:58.244030Z"
    }
   },
   "outputs": [],
   "source": [
    "def multiplique_por_dois(numero):\n",
    "    return numero*2"
   ]
  },
  {
   "cell_type": "code",
   "execution_count": null,
   "metadata": {
    "ExecuteTime": {
     "end_time": "2021-08-27T14:57:05.685637Z",
     "start_time": "2021-08-27T14:57:05.666640Z"
    }
   },
   "outputs": [],
   "source": [
    "multiplique_por_dois(10)"
   ]
  },
  {
   "cell_type": "code",
   "execution_count": 33,
   "metadata": {
    "ExecuteTime": {
     "end_time": "2021-09-28T17:11:55.260823Z",
     "start_time": "2021-09-28T17:11:55.251822Z"
    }
   },
   "outputs": [],
   "source": [
    "multiplique_dois = lambda x: x * 2"
   ]
  },
  {
   "cell_type": "code",
   "execution_count": 35,
   "metadata": {
    "ExecuteTime": {
     "end_time": "2021-09-28T17:13:18.782213Z",
     "start_time": "2021-09-28T17:13:18.772196Z"
    }
   },
   "outputs": [],
   "source": [
    "calcule_potencia = lambda potencia: potencia ** 2"
   ]
  },
  {
   "cell_type": "code",
   "execution_count": 36,
   "metadata": {
    "ExecuteTime": {
     "end_time": "2021-09-28T17:13:20.812331Z",
     "start_time": "2021-09-28T17:13:20.795332Z"
    }
   },
   "outputs": [
    {
     "data": {
      "text/plain": [
       "9"
      ]
     },
     "execution_count": 36,
     "metadata": {},
     "output_type": "execute_result"
    }
   ],
   "source": [
    "calcule_potencia(3)"
   ]
  },
  {
   "cell_type": "code",
   "execution_count": 37,
   "metadata": {
    "ExecuteTime": {
     "end_time": "2021-09-28T17:13:53.801056Z",
     "start_time": "2021-09-28T17:13:53.795056Z"
    }
   },
   "outputs": [],
   "source": [
    "soma = lambda a, b, c : a + b + c"
   ]
  },
  {
   "cell_type": "code",
   "execution_count": 38,
   "metadata": {
    "ExecuteTime": {
     "end_time": "2021-09-28T17:13:54.004025Z",
     "start_time": "2021-09-28T17:13:53.995025Z"
    }
   },
   "outputs": [
    {
     "data": {
      "text/plain": [
       "6"
      ]
     },
     "execution_count": 38,
     "metadata": {},
     "output_type": "execute_result"
    }
   ],
   "source": [
    "soma(1,2,3)"
   ]
  },
  {
   "cell_type": "markdown",
   "metadata": {},
   "source": [
    "#### 7.4 Variáveis Globais"
   ]
  },
  {
   "cell_type": "code",
   "execution_count": 42,
   "metadata": {
    "ExecuteTime": {
     "end_time": "2021-09-28T17:22:45.696658Z",
     "start_time": "2021-09-28T17:22:45.681660Z"
    }
   },
   "outputs": [
    {
     "name": "stdout",
     "output_type": "stream",
     "text": [
      "Danny\n"
     ]
    }
   ],
   "source": [
    "def profile():\n",
    "    global conexaoe\n",
    "    global age\n",
    "    name = \"Danny\"\n",
    "    age = 30\n",
    "\n",
    "profile()\n",
    "print(name)"
   ]
  },
  {
   "cell_type": "code",
   "execution_count": 43,
   "metadata": {
    "ExecuteTime": {
     "end_time": "2021-09-28T17:22:50.582819Z",
     "start_time": "2021-09-28T17:22:50.576819Z"
    }
   },
   "outputs": [
    {
     "data": {
      "text/plain": [
       "'Danny'"
      ]
     },
     "execution_count": 43,
     "metadata": {},
     "output_type": "execute_result"
    }
   ],
   "source": [
    "name\n",
    "# Output: Danny\n",
    "#print(age)\n",
    "# Output: 30"
   ]
  },
  {
   "cell_type": "markdown",
   "metadata": {},
   "source": [
    "## Agora é sua vez"
   ]
  },
  {
   "cell_type": "markdown",
   "metadata": {
    "ExecuteTime": {
     "end_time": "2021-09-27T19:12:27.152396Z",
     "start_time": "2021-09-27T19:12:27.132411Z"
    }
   },
   "source": [
    "**1) Crie uma função que irá receber 3 notas e fornecerá como saída o resultado da média dessas notas**"
   ]
  },
  {
   "cell_type": "code",
   "execution_count": null,
   "metadata": {},
   "outputs": [],
   "source": []
  },
  {
   "cell_type": "markdown",
   "metadata": {
    "ExecuteTime": {
     "end_time": "2021-09-27T19:12:46.277155Z",
     "start_time": "2021-09-27T19:12:46.267155Z"
    }
   },
   "source": [
    "**2) Crie uma função que irá receber um número e a saída é a sequência de fibonnaci  notas e fornecerá como saída o resultado da média dessas notas**"
   ]
  },
  {
   "cell_type": "code",
   "execution_count": null,
   "metadata": {},
   "outputs": [],
   "source": []
  }
 ],
 "metadata": {
  "kernelspec": {
   "display_name": "Python 3",
   "language": "python",
   "name": "python3"
  },
  "language_info": {
   "codemirror_mode": {
    "name": "ipython",
    "version": 3
   },
   "file_extension": ".py",
   "mimetype": "text/x-python",
   "name": "python",
   "nbconvert_exporter": "python",
   "pygments_lexer": "ipython3",
   "version": "3.8.11"
  }
 },
 "nbformat": 4,
 "nbformat_minor": 1
}
