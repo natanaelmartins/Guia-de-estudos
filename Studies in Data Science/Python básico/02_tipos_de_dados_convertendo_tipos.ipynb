{
 "cells": [
  {
   "cell_type": "markdown",
   "metadata": {},
   "source": [
    "# Curso de Python Básico\n",
    "\n",
    "Este é um curso básico de python que tem o objetivo de apresentar a linguagem python de uma **maneira rápida e objetiva**. Vamos direto ao ponto nos conceitos básicos da programação e python com muita mão na massa! \n",
    "\n",
    "Neste curso, vamos trabalhar no **modo iterativo** do python. Porém, entenda que você pode trabalhar no modo script com várias linhas de código usando um arquivo no formato .py.\n",
    "\n",
    "Ao final desse Curso, espero que você se aprenda python e se motive cada vez mais em utilizar a linguagem para diversas tarefas e problemas do mundo real.\n",
    "\n",
    "Este notebook vai apenas passar pelos tópicos básicos em ordem:\n",
    "\n",
    "* 1. Conceitos Básicos\n",
    "    * 1.5 Tipos de dados\n",
    "        * 1.4.1 Inteiro\n",
    "        * 1.4.2 Float\n",
    "        * 1.4.3 String\n",
    "        * 1.4.4 Boelano\n",
    "        * 1.4.5 Nulo\n",
    "    * 1.6 Verificando e Modificando os diferentes Tipos de Dados"
   ]
  },
  {
   "cell_type": "markdown",
   "metadata": {},
   "source": [
    "##  1. Conceitos Básicos"
   ]
  },
  {
   "cell_type": "markdown",
   "metadata": {},
   "source": [
    "#### 1.5. Tipos de dados\n",
    "- Inteiro\n",
    "- Float\n",
    "- Boleano\n",
    "- String\n",
    "- Nulo"
   ]
  },
  {
   "cell_type": "code",
   "execution_count": 1,
   "metadata": {
    "ExecuteTime": {
     "end_time": "2021-09-27T16:50:44.372704Z",
     "start_time": "2021-09-27T16:50:44.365705Z"
    }
   },
   "outputs": [],
   "source": [
    "# Int\n",
    "numero = 10"
   ]
  },
  {
   "cell_type": "code",
   "execution_count": 2,
   "metadata": {
    "ExecuteTime": {
     "end_time": "2021-09-27T16:51:41.777208Z",
     "start_time": "2021-09-27T16:51:41.765209Z"
    }
   },
   "outputs": [],
   "source": [
    "# Float\n",
    "numero = 10.0"
   ]
  },
  {
   "cell_type": "code",
   "execution_count": 3,
   "metadata": {
    "ExecuteTime": {
     "end_time": "2021-09-27T16:51:42.012469Z",
     "start_time": "2021-09-27T16:51:42.005466Z"
    }
   },
   "outputs": [
    {
     "data": {
      "text/plain": [
       "'Python é fácil'"
      ]
     },
     "execution_count": 3,
     "metadata": {},
     "output_type": "execute_result"
    }
   ],
   "source": [
    "# String\n",
    "texto = \"Python é fácil\"\n",
    "# 'Citação simples'\n",
    "# \"Citações duplas\"\n",
    "texto"
   ]
  },
  {
   "cell_type": "code",
   "execution_count": 19,
   "metadata": {
    "ExecuteTime": {
     "end_time": "2021-09-27T16:52:02.406228Z",
     "start_time": "2021-09-27T16:52:02.390108Z"
    }
   },
   "outputs": [
    {
     "data": {
      "text/plain": [
       "True"
      ]
     },
     "execution_count": 19,
     "metadata": {},
     "output_type": "execute_result"
    }
   ],
   "source": [
    "# Boleano\n",
    "brasileiro = True\n",
    "brasileiro"
   ]
  },
  {
   "cell_type": "code",
   "execution_count": 6,
   "metadata": {
    "ExecuteTime": {
     "end_time": "2021-09-27T16:52:18.243058Z",
     "start_time": "2021-09-27T16:52:18.230056Z"
    }
   },
   "outputs": [],
   "source": [
    "# Nulo\n",
    "dado = None"
   ]
  },
  {
   "cell_type": "code",
   "execution_count": 7,
   "metadata": {
    "ExecuteTime": {
     "end_time": "2021-09-27T16:53:01.711935Z",
     "start_time": "2021-09-27T16:53:01.707935Z"
    }
   },
   "outputs": [],
   "source": [
    "valor = '25'"
   ]
  },
  {
   "cell_type": "markdown",
   "metadata": {},
   "source": [
    "#### 1.6 Verificando e modificando os tipos de dados"
   ]
  },
  {
   "cell_type": "code",
   "execution_count": 10,
   "metadata": {
    "ExecuteTime": {
     "end_time": "2021-09-27T16:53:22.822543Z",
     "start_time": "2021-09-27T16:53:22.812545Z"
    }
   },
   "outputs": [
    {
     "data": {
      "text/plain": [
       "float"
      ]
     },
     "execution_count": 10,
     "metadata": {},
     "output_type": "execute_result"
    }
   ],
   "source": [
    "# Consultando tipos de dados\n",
    "type(1.0)"
   ]
  },
  {
   "cell_type": "code",
   "execution_count": 14,
   "metadata": {},
   "outputs": [],
   "source": [
    "numero = 10.0"
   ]
  },
  {
   "cell_type": "code",
   "execution_count": 16,
   "metadata": {
    "ExecuteTime": {
     "end_time": "2021-09-27T16:53:30.940585Z",
     "start_time": "2021-09-27T16:53:30.924824Z"
    }
   },
   "outputs": [
    {
     "data": {
      "text/plain": [
       "10.0"
      ]
     },
     "execution_count": 16,
     "metadata": {},
     "output_type": "execute_result"
    }
   ],
   "source": [
    "# Convertendo tipos de dados\n",
    "float(numero)"
   ]
  },
  {
   "cell_type": "code",
   "execution_count": 12,
   "metadata": {
    "ExecuteTime": {
     "end_time": "2021-09-27T16:53:58.630368Z",
     "start_time": "2021-09-27T16:53:58.620367Z"
    }
   },
   "outputs": [
    {
     "data": {
      "text/plain": [
       "int"
      ]
     },
     "execution_count": 12,
     "metadata": {},
     "output_type": "execute_result"
    }
   ],
   "source": [
    "type(int(1.0))"
   ]
  },
  {
   "cell_type": "code",
   "execution_count": 13,
   "metadata": {
    "ExecuteTime": {
     "end_time": "2021-09-27T16:54:19.437634Z",
     "start_time": "2021-09-27T16:54:19.429635Z"
    }
   },
   "outputs": [
    {
     "data": {
      "text/plain": [
       "15"
      ]
     },
     "execution_count": 13,
     "metadata": {},
     "output_type": "execute_result"
    }
   ],
   "source": [
    "int(15.5) "
   ]
  },
  {
   "cell_type": "markdown",
   "metadata": {},
   "source": [
    "## Agora é sua vez\n",
    "\n",
    "1) Crie um programa que receberá nome, idade, salário e brasileiro. o nome é uma variável String, a idade é uma variável inteira, o salário é uma variável float e brasileiro é uma variável boleana. \n",
    "\n",
    "2) Converta o a variável idade para float e a variável brasileiro para string.\n",
    "\n",
    "3) Verifique o tipo de cada variável e imprima os valores e seus tipos conforme a saída abaixo:\n",
    "\n",
    "**Saída:** \n",
    "- 'a variável idade é do tipo: {TIPO_DA_VARIAVEL}'\n",
    "- 'a variável brasileiro é do tipo: {TIPO_DA_VARIAVEL}'\n",
    "- 'a variável nome é do tipo: {TIPO_DA_VARIAVEL}'"
   ]
  },
  {
   "cell_type": "code",
   "execution_count": 21,
   "metadata": {},
   "outputs": [],
   "source": [
    "idade = 20\n",
    "brasileiro = True"
   ]
  },
  {
   "cell_type": "code",
   "execution_count": 25,
   "metadata": {},
   "outputs": [],
   "source": [
    "idade = float(idade)"
   ]
  },
  {
   "cell_type": "code",
   "execution_count": 24,
   "metadata": {},
   "outputs": [],
   "source": [
    "brasileiro = str(brasileiro)"
   ]
  },
  {
   "cell_type": "code",
   "execution_count": 26,
   "metadata": {},
   "outputs": [
    {
     "data": {
      "text/plain": [
       "str"
      ]
     },
     "execution_count": 26,
     "metadata": {},
     "output_type": "execute_result"
    }
   ],
   "source": [
    "type(brasileiro)"
   ]
  },
  {
   "cell_type": "code",
   "execution_count": null,
   "metadata": {},
   "outputs": [],
   "source": []
  }
 ],
 "metadata": {
  "kernelspec": {
   "display_name": "Python 3 (ipykernel)",
   "language": "python",
   "name": "python3"
  },
  "language_info": {
   "codemirror_mode": {
    "name": "ipython",
    "version": 3
   },
   "file_extension": ".py",
   "mimetype": "text/x-python",
   "name": "python",
   "nbconvert_exporter": "python",
   "pygments_lexer": "ipython3",
   "version": "3.9.7"
  }
 },
 "nbformat": 4,
 "nbformat_minor": 1
}
