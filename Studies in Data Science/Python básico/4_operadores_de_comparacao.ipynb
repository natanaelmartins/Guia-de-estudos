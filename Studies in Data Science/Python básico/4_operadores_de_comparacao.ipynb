{
 "cells": [
  {
   "cell_type": "markdown",
   "id": "b1c301c1",
   "metadata": {},
   "source": [
    "## Operadores de Comparação\n",
    "- Maior que\n",
    "- Menor que\n",
    "- Maior ou igual que\n",
    "- Menor ou igual que\n",
    "- Igual a\n",
    "- Diferente de\n",
    "- Pertence \n",
    "- Negação"
   ]
  },
  {
   "cell_type": "code",
   "execution_count": 3,
   "id": "e2a9e9b5",
   "metadata": {
    "ExecuteTime": {
     "end_time": "2021-10-16T14:30:46.579040Z",
     "start_time": "2021-10-16T14:30:46.562041Z"
    }
   },
   "outputs": [
    {
     "data": {
      "text/plain": [
       "True"
      ]
     },
     "execution_count": 3,
     "metadata": {},
     "output_type": "execute_result"
    }
   ],
   "source": [
    "3 > 2 #maior que"
   ]
  },
  {
   "cell_type": "code",
   "execution_count": 6,
   "id": "06502c5a",
   "metadata": {
    "ExecuteTime": {
     "end_time": "2021-10-16T14:31:27.530614Z",
     "start_time": "2021-10-16T14:31:27.521615Z"
    }
   },
   "outputs": [
    {
     "data": {
      "text/plain": [
       "False"
      ]
     },
     "execution_count": 6,
     "metadata": {},
     "output_type": "execute_result"
    }
   ],
   "source": [
    "2 < 1 #menor que"
   ]
  },
  {
   "cell_type": "code",
   "execution_count": 5,
   "id": "a0328044",
   "metadata": {
    "ExecuteTime": {
     "end_time": "2021-10-16T14:31:16.794488Z",
     "start_time": "2021-10-16T14:31:16.785488Z"
    }
   },
   "outputs": [
    {
     "data": {
      "text/plain": [
       "True"
      ]
     },
     "execution_count": 5,
     "metadata": {},
     "output_type": "execute_result"
    }
   ],
   "source": [
    "2 >= 2  #maior que ou iqual a"
   ]
  },
  {
   "cell_type": "code",
   "execution_count": 8,
   "id": "9c301859",
   "metadata": {
    "ExecuteTime": {
     "end_time": "2021-10-16T14:31:40.164613Z",
     "start_time": "2021-10-16T14:31:40.153612Z"
    }
   },
   "outputs": [
    {
     "data": {
      "text/plain": [
       "True"
      ]
     },
     "execution_count": 8,
     "metadata": {},
     "output_type": "execute_result"
    }
   ],
   "source": [
    "1 <= 2  #menor que ou iqual a"
   ]
  },
  {
   "cell_type": "code",
   "execution_count": 13,
   "id": "cff1d539",
   "metadata": {
    "ExecuteTime": {
     "end_time": "2021-10-16T14:32:36.871978Z",
     "start_time": "2021-10-16T14:32:36.856978Z"
    }
   },
   "outputs": [
    {
     "data": {
      "text/plain": [
       "True"
      ]
     },
     "execution_count": 13,
     "metadata": {},
     "output_type": "execute_result"
    }
   ],
   "source": [
    "1 == 1 #igual a"
   ]
  },
  {
   "cell_type": "code",
   "execution_count": 15,
   "id": "23258af5",
   "metadata": {
    "ExecuteTime": {
     "end_time": "2021-10-16T14:32:56.651857Z",
     "start_time": "2021-10-16T14:32:56.640858Z"
    }
   },
   "outputs": [
    {
     "data": {
      "text/plain": [
       "True"
      ]
     },
     "execution_count": 15,
     "metadata": {},
     "output_type": "execute_result"
    }
   ],
   "source": [
    "2 != 1 #diferente"
   ]
  },
  {
   "cell_type": "code",
   "execution_count": 16,
   "id": "0ccdbbfd",
   "metadata": {
    "ExecuteTime": {
     "end_time": "2021-10-16T14:33:32.473223Z",
     "start_time": "2021-10-16T14:33:32.466224Z"
    }
   },
   "outputs": [],
   "source": [
    "nome = 'nicksson'"
   ]
  },
  {
   "cell_type": "code",
   "execution_count": 18,
   "id": "1b00e7ad",
   "metadata": {
    "ExecuteTime": {
     "end_time": "2021-10-16T14:34:04.879539Z",
     "start_time": "2021-10-16T14:34:04.864540Z"
    }
   },
   "outputs": [
    {
     "data": {
      "text/plain": [
       "True"
      ]
     },
     "execution_count": 18,
     "metadata": {},
     "output_type": "execute_result"
    }
   ],
   "source": [
    "'n' in nome #um elemento pertence a um conjunto"
   ]
  },
  {
   "cell_type": "code",
   "execution_count": 27,
   "id": "3e016dcd",
   "metadata": {
    "ExecuteTime": {
     "end_time": "2021-10-16T14:36:12.085770Z",
     "start_time": "2021-10-16T14:36:12.071770Z"
    }
   },
   "outputs": [
    {
     "data": {
      "text/plain": [
       "True"
      ]
     },
     "execution_count": 27,
     "metadata": {},
     "output_type": "execute_result"
    }
   ],
   "source": [
    "'N' not in nome #um elemento pertence a um conjunto"
   ]
  },
  {
   "cell_type": "code",
   "execution_count": 21,
   "id": "8e60f057",
   "metadata": {
    "ExecuteTime": {
     "end_time": "2021-10-16T14:34:47.442855Z",
     "start_time": "2021-10-16T14:34:47.432855Z"
    }
   },
   "outputs": [
    {
     "data": {
      "text/plain": [
       "False"
      ]
     },
     "execution_count": 21,
     "metadata": {},
     "output_type": "execute_result"
    }
   ],
   "source": [
    "10 in [1,2,3,4,5,6]"
   ]
  },
  {
   "cell_type": "code",
   "execution_count": 23,
   "id": "ae18e1a6",
   "metadata": {
    "ExecuteTime": {
     "end_time": "2021-10-16T14:35:31.460014Z",
     "start_time": "2021-10-16T14:35:31.441014Z"
    }
   },
   "outputs": [
    {
     "data": {
      "text/plain": [
       "True"
      ]
     },
     "execution_count": 23,
     "metadata": {},
     "output_type": "execute_result"
    }
   ],
   "source": [
    "10 not in [1,2,3,4,5,6] #não pertence"
   ]
  },
  {
   "cell_type": "code",
   "execution_count": null,
   "id": "f844dc5e",
   "metadata": {},
   "outputs": [],
   "source": []
  }
 ],
 "metadata": {
  "kernelspec": {
   "display_name": "Python 3",
   "language": "python",
   "name": "python3"
  },
  "language_info": {
   "codemirror_mode": {
    "name": "ipython",
    "version": 3
   },
   "file_extension": ".py",
   "mimetype": "text/x-python",
   "name": "python",
   "nbconvert_exporter": "python",
   "pygments_lexer": "ipython3",
   "version": "3.8.11"
  }
 },
 "nbformat": 4,
 "nbformat_minor": 5
}
