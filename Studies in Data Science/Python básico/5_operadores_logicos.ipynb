{
 "cells": [
  {
   "cell_type": "markdown",
   "id": "34290b16",
   "metadata": {
    "ExecuteTime": {
     "end_time": "2021-10-16T14:38:15.776283Z",
     "start_time": "2021-10-16T14:38:15.763282Z"
    }
   },
   "source": [
    "## Operadores lógicos\n",
    "- and\n",
    "- or"
   ]
  },
  {
   "cell_type": "code",
   "execution_count": 6,
   "id": "ac5ef2c3",
   "metadata": {
    "ExecuteTime": {
     "end_time": "2021-10-16T14:39:52.085507Z",
     "start_time": "2021-10-16T14:39:52.078509Z"
    }
   },
   "outputs": [
    {
     "data": {
      "text/plain": [
       "True"
      ]
     },
     "execution_count": 6,
     "metadata": {},
     "output_type": "execute_result"
    }
   ],
   "source": [
    "(1 < 2) and (2 < 3) and (4 < 10)"
   ]
  },
  {
   "cell_type": "code",
   "execution_count": 8,
   "id": "17ca524e",
   "metadata": {
    "ExecuteTime": {
     "end_time": "2021-10-16T14:40:32.959125Z",
     "start_time": "2021-10-16T14:40:32.950128Z"
    }
   },
   "outputs": [
    {
     "data": {
      "text/plain": [
       "True"
      ]
     },
     "execution_count": 8,
     "metadata": {},
     "output_type": "execute_result"
    }
   ],
   "source": [
    "(1 < 2) or (5 < 3)"
   ]
  },
  {
   "cell_type": "code",
   "execution_count": 9,
   "id": "8cc19817",
   "metadata": {
    "ExecuteTime": {
     "end_time": "2021-10-16T14:40:40.653117Z",
     "start_time": "2021-10-16T14:40:40.646118Z"
    }
   },
   "outputs": [
    {
     "data": {
      "text/plain": [
       "False"
      ]
     },
     "execution_count": 9,
     "metadata": {},
     "output_type": "execute_result"
    }
   ],
   "source": [
    "(1 < 2) and (5 < 3)"
   ]
  },
  {
   "cell_type": "markdown",
   "id": "7b302a3f",
   "metadata": {},
   "source": [
    "## Agora é sua vez"
   ]
  },
  {
   "cell_type": "markdown",
   "id": "88f943a2",
   "metadata": {},
   "source": [
    "**1) qual o retorno da operação: 5 é maior do que 2, 2 é menor do que 3 e 4 é menor do que 12?**"
   ]
  },
  {
   "cell_type": "code",
   "execution_count": 13,
   "id": "f2bce484",
   "metadata": {
    "ExecuteTime": {
     "end_time": "2021-10-16T14:45:24.689363Z",
     "start_time": "2021-10-16T14:45:24.677368Z"
    }
   },
   "outputs": [
    {
     "data": {
      "text/plain": [
       "False"
      ]
     },
     "execution_count": 13,
     "metadata": {},
     "output_type": "execute_result"
    }
   ],
   "source": [
    "(5 > 2) and (2 < 3) and (4 < 2)"
   ]
  },
  {
   "cell_type": "markdown",
   "id": "fe82a2bf",
   "metadata": {},
   "source": [
    "**2) O que acontece se trocarmos o último \"and\" por \"or\". Verifique e explique se o resultado da expressão muda**"
   ]
  },
  {
   "cell_type": "code",
   "execution_count": 14,
   "id": "ae32b1c9",
   "metadata": {
    "ExecuteTime": {
     "end_time": "2021-10-16T14:45:34.252583Z",
     "start_time": "2021-10-16T14:45:34.236581Z"
    }
   },
   "outputs": [
    {
     "data": {
      "text/plain": [
       "True"
      ]
     },
     "execution_count": 14,
     "metadata": {},
     "output_type": "execute_result"
    }
   ],
   "source": [
    "(5 > 2) and (2 < 3) or (4 < 2)\n",
    "v and v\n"
   ]
  },
  {
   "cell_type": "code",
   "execution_count": null,
   "id": "0ca4fc29",
   "metadata": {},
   "outputs": [],
   "source": []
  }
 ],
 "metadata": {
  "kernelspec": {
   "display_name": "Python 3",
   "language": "python",
   "name": "python3"
  },
  "language_info": {
   "codemirror_mode": {
    "name": "ipython",
    "version": 3
   },
   "file_extension": ".py",
   "mimetype": "text/x-python",
   "name": "python",
   "nbconvert_exporter": "python",
   "pygments_lexer": "ipython3",
   "version": "3.8.11"
  }
 },
 "nbformat": 4,
 "nbformat_minor": 5
}
