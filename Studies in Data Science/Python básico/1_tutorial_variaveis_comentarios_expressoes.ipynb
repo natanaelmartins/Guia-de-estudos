{
 "cells": [
  {
   "cell_type": "markdown",
   "id": "77c449fe",
   "metadata": {},
   "source": [
    "#### Tutorial de Python\n",
    "shift + enter = RUN"
   ]
  },
  {
   "cell_type": "code",
   "execution_count": 1,
   "id": "c89f4eb8",
   "metadata": {
    "ExecuteTime": {
     "end_time": "2021-10-16T13:02:52.475525Z",
     "start_time": "2021-10-16T13:02:52.460527Z"
    }
   },
   "outputs": [
    {
     "name": "stdout",
     "output_type": "stream",
     "text": [
      "Olá Mundo\n"
     ]
    }
   ],
   "source": [
    "print(\"Olá Mundo\")"
   ]
  },
  {
   "cell_type": "markdown",
   "id": "6e71c668",
   "metadata": {},
   "source": [
    "#### Variáveis\n",
    "-  Caracteres especiais @, %, &, |"
   ]
  },
  {
   "cell_type": "code",
   "execution_count": 5,
   "id": "23294d9a",
   "metadata": {
    "ExecuteTime": {
     "end_time": "2021-10-16T13:08:45.002015Z",
     "start_time": "2021-10-16T13:08:44.991014Z"
    }
   },
   "outputs": [],
   "source": [
    "nome = 'Nicksson'\n",
    "idade = 27\n",
    "salario = 27.0"
   ]
  },
  {
   "cell_type": "code",
   "execution_count": 11,
   "id": "96e15f4a",
   "metadata": {
    "ExecuteTime": {
     "end_time": "2021-10-16T13:12:13.402775Z",
     "start_time": "2021-10-16T13:12:13.390778Z"
    }
   },
   "outputs": [
    {
     "name": "stdout",
     "output_type": "stream",
     "text": [
      "Nicksson\n"
     ]
    }
   ],
   "source": [
    "print(nome)"
   ]
  },
  {
   "cell_type": "markdown",
   "id": "4828c59c",
   "metadata": {},
   "source": [
    "#### Expressão"
   ]
  },
  {
   "cell_type": "code",
   "execution_count": 12,
   "id": "46d4914f",
   "metadata": {
    "ExecuteTime": {
     "end_time": "2021-10-16T13:13:41.022632Z",
     "start_time": "2021-10-16T13:13:41.004629Z"
    }
   },
   "outputs": [
    {
     "name": "stdout",
     "output_type": "stream",
     "text": [
      "30\n"
     ]
    }
   ],
   "source": [
    "numero1 = 10\n",
    "numero2 = 20\n",
    "resultado = numero1 + numero2\n",
    "print(resultado)"
   ]
  },
  {
   "cell_type": "markdown",
   "id": "be704409",
   "metadata": {},
   "source": [
    "### Comentários"
   ]
  },
  {
   "cell_type": "code",
   "execution_count": 17,
   "id": "3b9dcb4e",
   "metadata": {
    "ExecuteTime": {
     "end_time": "2021-10-16T13:19:35.103771Z",
     "start_time": "2021-10-16T13:19:35.099769Z"
    }
   },
   "outputs": [],
   "source": [
    "# Este é um comentário curto"
   ]
  },
  {
   "cell_type": "code",
   "execution_count": 19,
   "id": "d850e8e9",
   "metadata": {
    "ExecuteTime": {
     "end_time": "2021-10-16T13:20:39.916418Z",
     "start_time": "2021-10-16T13:20:39.899419Z"
    }
   },
   "outputs": [
    {
     "data": {
      "text/plain": [
       "9"
      ]
     },
     "execution_count": 19,
     "metadata": {},
     "output_type": "execute_result"
    }
   ],
   "source": [
    "\"\"\" \n",
    "Este é um comentário \n",
    "composto que pode conter\n",
    "várias linhas de código\n",
    "\"\"\"\n",
    "5+4"
   ]
  },
  {
   "cell_type": "markdown",
   "id": "7bf29443",
   "metadata": {},
   "source": [
    "### Imprimindo valores"
   ]
  },
  {
   "cell_type": "code",
   "execution_count": 20,
   "id": "2cd19450",
   "metadata": {
    "ExecuteTime": {
     "end_time": "2021-10-16T13:21:32.433339Z",
     "start_time": "2021-10-16T13:21:32.427338Z"
    }
   },
   "outputs": [],
   "source": [
    "nome = 'Nicksson'\n",
    "idade = 27\n",
    "salario = 27.0"
   ]
  },
  {
   "cell_type": "code",
   "execution_count": 21,
   "id": "765f8d4a",
   "metadata": {
    "ExecuteTime": {
     "end_time": "2021-10-16T13:22:16.395729Z",
     "start_time": "2021-10-16T13:22:16.386733Z"
    }
   },
   "outputs": [
    {
     "name": "stdout",
     "output_type": "stream",
     "text": [
      "Nicksson\n"
     ]
    }
   ],
   "source": [
    "print(nome)"
   ]
  },
  {
   "cell_type": "code",
   "execution_count": 23,
   "id": "20978999",
   "metadata": {
    "ExecuteTime": {
     "end_time": "2021-10-16T13:24:11.867756Z",
     "start_time": "2021-10-16T13:24:11.849757Z"
    }
   },
   "outputs": [
    {
     "name": "stdout",
     "output_type": "stream",
     "text": [
      "Meu nome é 27, minha idade é: Nicksson\n"
     ]
    }
   ],
   "source": [
    "print('Meu nome é {var1}, minha idade é: {var2}'.format(var2=nome, var1=idade))"
   ]
  },
  {
   "cell_type": "code",
   "execution_count": 24,
   "id": "49d34974",
   "metadata": {
    "ExecuteTime": {
     "end_time": "2021-10-16T13:25:03.127461Z",
     "start_time": "2021-10-16T13:25:03.114462Z"
    }
   },
   "outputs": [
    {
     "name": "stdout",
     "output_type": "stream",
     "text": [
      "Meu nome é Nicksson e minha idade é 27\n"
     ]
    }
   ],
   "source": [
    "print('Meu nome é {} e minha idade é {} e'.format(nome, idade))"
   ]
  },
  {
   "cell_type": "code",
   "execution_count": 27,
   "id": "8d3ce7da",
   "metadata": {
    "ExecuteTime": {
     "end_time": "2021-10-16T13:25:54.883322Z",
     "start_time": "2021-10-16T13:25:54.873322Z"
    }
   },
   "outputs": [
    {
     "name": "stdout",
     "output_type": "stream",
     "text": [
      "Meu nome é Nicksson, minha idade é 27 e meu salário é 27.0\n"
     ]
    }
   ],
   "source": [
    "print('Meu nome é {}, minha idade é {} e meu salário é {}'.format(nome, idade, salario))"
   ]
  },
  {
   "cell_type": "markdown",
   "id": "337a5513",
   "metadata": {
    "ExecuteTime": {
     "end_time": "2021-10-16T13:26:22.360134Z",
     "start_time": "2021-10-16T13:26:22.353134Z"
    }
   },
   "source": [
    "## Agora é a sua vez!\n",
    "\n",
    "1) Crie um programa que receba seu nome, idade, telefone, salário e endereço e imprima uma saída desejada. \n",
    "\n",
    "Saída: Eu sou {NOME}, eu tenho {IDADE}, você pode me contatar no número {TELEFONE} ou me visitar no endereço {ENDERECO}. Meu salário atual circula em torno de {SALARIO}.\n"
   ]
  },
  {
   "cell_type": "code",
   "execution_count": 36,
   "id": "a2ce2025",
   "metadata": {
    "ExecuteTime": {
     "end_time": "2021-10-16T13:32:55.567597Z",
     "start_time": "2021-10-16T13:32:55.559597Z"
    }
   },
   "outputs": [],
   "source": [
    "nome = 'Nicksson'\n",
    "idade = 27\n",
    "telefone = '(85) 9999-9999'\n",
    "endereço = 'Fortaleza-CE, Maraponga'\n",
    "salario = 100.0"
   ]
  },
  {
   "cell_type": "code",
   "execution_count": 59,
   "id": "f6dddf66",
   "metadata": {
    "ExecuteTime": {
     "end_time": "2021-10-16T13:47:09.015496Z",
     "start_time": "2021-10-16T13:47:09.009494Z"
    }
   },
   "outputs": [
    {
     "ename": "SyntaxError",
     "evalue": "invalid syntax (<ipython-input-59-38cb62db6ea8>, line 2)",
     "output_type": "error",
     "traceback": [
      "\u001b[1;36m  File \u001b[1;32m\"<ipython-input-59-38cb62db6ea8>\"\u001b[1;36m, line \u001b[1;32m2\u001b[0m\n\u001b[1;33m    ou me visitar no endereço {}. Meu' + \\\u001b[0m\n\u001b[1;37m       ^\u001b[0m\n\u001b[1;31mSyntaxError\u001b[0m\u001b[1;31m:\u001b[0m invalid syntax\n"
     ]
    }
   ],
   "source": [
    "print('Eu sou {}, eu tenho {}, você pode me contatar no número {}' +\\\n",
    "      ou me visitar no endereço {}. Meu' + \\\n",
    "      salário atual circula em torno de {}'.format(nome, idade, telefone, endereço, salario))"
   ]
  },
  {
   "cell_type": "code",
   "execution_count": 55,
   "id": "7c7b58da",
   "metadata": {
    "ExecuteTime": {
     "end_time": "2021-10-16T13:41:47.771187Z",
     "start_time": "2021-10-16T13:41:47.756189Z"
    }
   },
   "outputs": [
    {
     "name": "stdout",
     "output_type": "stream",
     "text": [
      "Meu nome é:\t Nicksson\n"
     ]
    }
   ],
   "source": [
    "print('Meu nome é:\\t {}'.format(nome))"
   ]
  },
  {
   "cell_type": "code",
   "execution_count": null,
   "id": "090f499e",
   "metadata": {},
   "outputs": [],
   "source": []
  }
 ],
 "metadata": {
  "kernelspec": {
   "display_name": "Python 3",
   "language": "python",
   "name": "python3"
  },
  "language_info": {
   "codemirror_mode": {
    "name": "ipython",
    "version": 3
   },
   "file_extension": ".py",
   "mimetype": "text/x-python",
   "name": "python",
   "nbconvert_exporter": "python",
   "pygments_lexer": "ipython3",
   "version": "3.8.11"
  }
 },
 "nbformat": 4,
 "nbformat_minor": 5
}
