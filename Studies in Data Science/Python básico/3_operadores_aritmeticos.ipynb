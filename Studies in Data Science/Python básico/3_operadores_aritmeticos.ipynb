{
 "cells": [
  {
   "cell_type": "markdown",
   "id": "846bc763",
   "metadata": {},
   "source": [
    "### Operadores aritiméticos\n",
    "\n",
    "- adição\n",
    "- subtração\n",
    "- multiplicação\n",
    "- divisão\n",
    "- expodenciação\n",
    "- resto da divisão"
   ]
  },
  {
   "cell_type": "code",
   "execution_count": 5,
   "id": "09d38e19",
   "metadata": {
    "ExecuteTime": {
     "end_time": "2021-10-16T14:14:42.613471Z",
     "start_time": "2021-10-16T14:14:42.599471Z"
    }
   },
   "outputs": [
    {
     "data": {
      "text/plain": [
       "3"
      ]
     },
     "execution_count": 5,
     "metadata": {},
     "output_type": "execute_result"
    }
   ],
   "source": [
    "1 + 2 #adição"
   ]
  },
  {
   "cell_type": "code",
   "execution_count": 7,
   "id": "6a2c9e69",
   "metadata": {
    "ExecuteTime": {
     "end_time": "2021-10-16T14:15:00.091876Z",
     "start_time": "2021-10-16T14:15:00.079875Z"
    }
   },
   "outputs": [
    {
     "data": {
      "text/plain": [
       "1.0"
      ]
     },
     "execution_count": 7,
     "metadata": {},
     "output_type": "execute_result"
    }
   ],
   "source": [
    "2 - 1.0 #subtração"
   ]
  },
  {
   "cell_type": "code",
   "execution_count": 10,
   "id": "2cec434c",
   "metadata": {
    "ExecuteTime": {
     "end_time": "2021-10-16T14:15:28.471725Z",
     "start_time": "2021-10-16T14:15:28.462725Z"
    }
   },
   "outputs": [
    {
     "data": {
      "text/plain": [
       "50"
      ]
     },
     "execution_count": 10,
     "metadata": {},
     "output_type": "execute_result"
    }
   ],
   "source": [
    "5 * 10 #multiplicação"
   ]
  },
  {
   "cell_type": "code",
   "execution_count": 22,
   "id": "fac1b251",
   "metadata": {
    "ExecuteTime": {
     "end_time": "2021-10-16T14:18:13.271366Z",
     "start_time": "2021-10-16T14:18:13.255369Z"
    }
   },
   "outputs": [
    {
     "data": {
      "text/plain": [
       "5.0"
      ]
     },
     "execution_count": 22,
     "metadata": {},
     "output_type": "execute_result"
    }
   ],
   "source": [
    "10 / 2 #divisão  #retorno sempre float"
   ]
  },
  {
   "cell_type": "code",
   "execution_count": 19,
   "id": "9e88ecda",
   "metadata": {
    "ExecuteTime": {
     "end_time": "2021-10-16T14:16:56.458742Z",
     "start_time": "2021-10-16T14:16:56.446742Z"
    }
   },
   "outputs": [
    {
     "data": {
      "text/plain": [
       "64"
      ]
     },
     "execution_count": 19,
     "metadata": {},
     "output_type": "execute_result"
    }
   ],
   "source": [
    "2 ** 6 #expodenciação"
   ]
  },
  {
   "cell_type": "code",
   "execution_count": 21,
   "id": "4d6499c2",
   "metadata": {
    "ExecuteTime": {
     "end_time": "2021-10-16T14:17:53.915493Z",
     "start_time": "2021-10-16T14:17:53.910494Z"
    }
   },
   "outputs": [
    {
     "data": {
      "text/plain": [
       "0"
      ]
     },
     "execution_count": 21,
     "metadata": {},
     "output_type": "execute_result"
    }
   ],
   "source": [
    "4 % 2 #resto da divisão"
   ]
  },
  {
   "cell_type": "markdown",
   "id": "32d9cac4",
   "metadata": {},
   "source": [
    "### Ordem das operações\n",
    "- PANDAS = PEMDAS\n",
    "    - P: Parenteses\n",
    "    - E: Exponenciação\n",
    "    - M: Multiplicação\n",
    "    - D: Divisão\n",
    "    - A: Adição\n",
    "    - S: Subtração:"
   ]
  },
  {
   "cell_type": "code",
   "execution_count": 25,
   "id": "538e6fe9",
   "metadata": {
    "ExecuteTime": {
     "end_time": "2021-10-16T14:20:02.493679Z",
     "start_time": "2021-10-16T14:20:02.477680Z"
    }
   },
   "outputs": [
    {
     "data": {
      "text/plain": [
       "12"
      ]
     },
     "execution_count": 25,
     "metadata": {},
     "output_type": "execute_result"
    }
   ],
   "source": [
    "(1 + 2) * 4 "
   ]
  },
  {
   "cell_type": "code",
   "execution_count": 26,
   "id": "df222cf4",
   "metadata": {
    "ExecuteTime": {
     "end_time": "2021-10-16T14:20:18.527473Z",
     "start_time": "2021-10-16T14:20:18.518473Z"
    }
   },
   "outputs": [
    {
     "data": {
      "text/plain": [
       "9"
      ]
     },
     "execution_count": 26,
     "metadata": {},
     "output_type": "execute_result"
    }
   ],
   "source": [
    "1 + 2 * 4 "
   ]
  },
  {
   "cell_type": "code",
   "execution_count": 28,
   "id": "6fbe6d1a",
   "metadata": {
    "ExecuteTime": {
     "end_time": "2021-10-16T14:21:06.297355Z",
     "start_time": "2021-10-16T14:21:06.293354Z"
    }
   },
   "outputs": [
    {
     "data": {
      "text/plain": [
       "64"
      ]
     },
     "execution_count": 28,
     "metadata": {},
     "output_type": "execute_result"
    }
   ],
   "source": [
    "(2 * 2) ** 3"
   ]
  },
  {
   "cell_type": "code",
   "execution_count": 30,
   "id": "ad6967f5",
   "metadata": {
    "ExecuteTime": {
     "end_time": "2021-10-16T14:23:56.857167Z",
     "start_time": "2021-10-16T14:23:56.853166Z"
    }
   },
   "outputs": [
    {
     "data": {
      "text/plain": [
       "55.0"
      ]
     },
     "execution_count": 30,
     "metadata": {},
     "output_type": "execute_result"
    }
   ],
   "source": [
    "(1 + 2) ** 2 * 10 / 2 + 11 - 1"
   ]
  },
  {
   "cell_type": "markdown",
   "id": "71beac95",
   "metadata": {},
   "source": [
    "## Agora é sua vez!"
   ]
  },
  {
   "cell_type": "markdown",
   "id": "af2209c7",
   "metadata": {},
   "source": [
    "**1) Quanto é 7 elevado na potência 4?**"
   ]
  },
  {
   "cell_type": "code",
   "execution_count": 34,
   "id": "6ea32892",
   "metadata": {
    "ExecuteTime": {
     "end_time": "2021-10-16T14:25:49.270780Z",
     "start_time": "2021-10-16T14:25:49.251782Z"
    }
   },
   "outputs": [
    {
     "data": {
      "text/plain": [
       "2401"
      ]
     },
     "execution_count": 34,
     "metadata": {},
     "output_type": "execute_result"
    }
   ],
   "source": [
    "7 ** 4"
   ]
  },
  {
   "cell_type": "markdown",
   "id": "bf19852f",
   "metadata": {},
   "source": [
    "**2) Qual o resultado da seguinte expressão: (5 + 8) ** 2 * 10 / 2 + 11 - 1** Descreva a ordem que ocorre as operações!"
   ]
  },
  {
   "cell_type": "code",
   "execution_count": 35,
   "id": "86bc8fce",
   "metadata": {
    "ExecuteTime": {
     "end_time": "2021-10-16T14:26:01.368654Z",
     "start_time": "2021-10-16T14:26:01.364654Z"
    }
   },
   "outputs": [
    {
     "data": {
      "text/plain": [
       "855.0"
      ]
     },
     "execution_count": 35,
     "metadata": {},
     "output_type": "execute_result"
    }
   ],
   "source": [
    "(5 + 8) ** 2 * 10 / 2 + 11 - 1"
   ]
  },
  {
   "cell_type": "markdown",
   "id": "16c7d661",
   "metadata": {},
   "source": [
    "**3) Explique o resultado da seguinte expressão: 5 + 8 ** 2 * 10 / 2 + 11 - 1** Descreva a ordem que ocorre as operações!"
   ]
  },
  {
   "cell_type": "code",
   "execution_count": 36,
   "id": "d6b8a07e",
   "metadata": {
    "ExecuteTime": {
     "end_time": "2021-10-16T14:26:08.591383Z",
     "start_time": "2021-10-16T14:26:08.587381Z"
    }
   },
   "outputs": [
    {
     "data": {
      "text/plain": [
       "335.0"
      ]
     },
     "execution_count": 36,
     "metadata": {},
     "output_type": "execute_result"
    }
   ],
   "source": [
    "5 + 8 ** 2 * 10 / 2 + 11 - 1"
   ]
  },
  {
   "cell_type": "code",
   "execution_count": null,
   "id": "6585b54e",
   "metadata": {},
   "outputs": [],
   "source": []
  }
 ],
 "metadata": {
  "kernelspec": {
   "display_name": "Python 3",
   "language": "python",
   "name": "python3"
  },
  "language_info": {
   "codemirror_mode": {
    "name": "ipython",
    "version": 3
   },
   "file_extension": ".py",
   "mimetype": "text/x-python",
   "name": "python",
   "nbconvert_exporter": "python",
   "pygments_lexer": "ipython3",
   "version": "3.8.11"
  }
 },
 "nbformat": 4,
 "nbformat_minor": 5
}
