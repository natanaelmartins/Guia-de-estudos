{
 "cells": [
  {
   "cell_type": "markdown",
   "metadata": {},
   "source": [
    "# Curso de Python Básico\n",
    "\n",
    "Este é um curso básico de python que tem o objetivo de apresentar a linguagem python de uma **maneira rápida e objetiva**. Vamos direto ao ponto nos conceitos básicos da programação e python com muita mão na massa! \n",
    "\n",
    "Neste curso, vamos trabalhar no **modo iterativo** do python. Porém, entenda que você pode trabalhar no modo script com várias linhas de código usando um arquivo no formato .py.\n",
    "\n",
    "Ao final desse Curso, espero que você se aprenda python e se motive cada vez mais em utilizar a linguagem para diversas tarefas e problemas do mundo real.\n",
    "\n",
    "Este notebook vai apenas passar pelos tópicos básicos em ordem"
   ]
  },
  {
   "cell_type": "markdown",
   "metadata": {},
   "source": [
    "## 8.7 Arquivos do Sistema Operacional\n",
    "\n",
    "- dataset: https://dados.gov.br/dataset/ensino-pos-graduacao-fcrb"
   ]
  },
  {
   "cell_type": "code",
   "execution_count": 1,
   "metadata": {
    "ExecuteTime": {
     "end_time": "2021-11-06T00:18:19.464481Z",
     "start_time": "2021-11-06T00:18:19.447207Z"
    }
   },
   "outputs": [],
   "source": [
    "file = open('docentes20162021.csv', 'r')"
   ]
  },
  {
   "cell_type": "code",
   "execution_count": 2,
   "metadata": {
    "ExecuteTime": {
     "end_time": "2021-11-06T00:18:19.510121Z",
     "start_time": "2021-11-06T00:18:19.471793Z"
    }
   },
   "outputs": [
    {
     "name": "stdout",
     "output_type": "stream",
     "text": [
      "<_io.TextIOWrapper name='docentes20162021.csv' mode='r' encoding='cp1252'>\n"
     ]
    }
   ],
   "source": [
    "print(file)"
   ]
  },
  {
   "cell_type": "markdown",
   "metadata": {},
   "source": [
    "#### Modo de leitura\n",
    "- r: permissão de leitura (read)\n",
    "- w: permissão de escrita (write)\n",
    "- a: permissão de escrita somente no final do arquivo (append)"
   ]
  },
  {
   "cell_type": "markdown",
   "metadata": {},
   "source": [
    "#### 8.7.1 Leitura de dados no arquivo"
   ]
  },
  {
   "cell_type": "code",
   "execution_count": 6,
   "metadata": {
    "ExecuteTime": {
     "end_time": "2021-11-06T00:19:26.783327Z",
     "start_time": "2021-11-06T00:19:26.769329Z"
    }
   },
   "outputs": [],
   "source": [
    "dados = file.readlines()"
   ]
  },
  {
   "cell_type": "code",
   "execution_count": 4,
   "metadata": {
    "ExecuteTime": {
     "end_time": "2021-11-06T00:18:21.362100Z",
     "start_time": "2021-11-06T00:18:21.340070Z"
    }
   },
   "outputs": [
    {
     "name": "stdout",
     "output_type": "stream",
     "text": [
      "Docentes,Linha de Pesquisa,Ano\n",
      "\n",
      "Ana CÃ©lia Rodrigues,'L1: PatrimÃ´nio Documental: RepresentaÃ§Ã£o, Gerenciamento e PreservaÃ§Ã£o de EspaÃ§os de MemÃ³ria.',2016\n",
      "\n",
      "Ana LÃ­gia Medeiros,'L1: PatrimÃ´nio Documental: RepresentaÃ§Ã£o, Gerenciamento e PreservaÃ§Ã£o de EspaÃ§os de MemÃ³ria.',2016\n",
      "\n",
      "Ana Maria Pessoa dos Santos,'L2: PrÃ¡ticas crÃ­ticas em acervos: difusÃ£o, acesso, uso e apropriaÃ§Ã£o do patrimÃ´nio documental material e imaterial.',2016\n",
      "\n",
      "Antonio Herculano Lopes,'L2: PrÃ¡ticas crÃ­ticas em acervos: difusÃ£o, acesso, uso e apropriaÃ§Ã£o do patrimÃ´nio documental material e imaterial.',2016\n",
      "\n",
      "Aparecida Marina de Souza Rangel,'L1: PatrimÃ´nio Documental: RepresentaÃ§Ã£o, Gerenciamento e PreservaÃ§Ã£o de EspaÃ§os de MemÃ³ria.',2016\n",
      "\n",
      "Charles Matheus Pontes Gomes,'L2: PrÃ¡ticas crÃ­ticas em acervos: difusÃ£o, acesso, uso e apropriaÃ§Ã£o do patrimÃ´nio documental material e imaterial.',2016\n",
      "\n",
      "Christian Edward Cyril Lynch,'L2: PrÃ¡ticas crÃ­ticas em acervos: difusÃ£o, acesso, uso e apropriaÃ§Ã£o do patrimÃ´nio documental material e imaterial.',2016\n",
      "\n",
      "Claudia Suely Rodrigues Carvalho,'L1: PatrimÃ´nio Documental: RepresentaÃ§Ã£o, Gerenciamento e PreservaÃ§Ã£o de EspaÃ§os de MemÃ³ria.',2016\n",
      "\n",
      "Edmar Moraes GonÃ§alves,'L1: PatrimÃ´nio Documental: RepresentaÃ§Ã£o, Gerenciamento e PreservaÃ§Ã£o de EspaÃ§os de MemÃ³ria.',2016\n",
      "\n",
      "Eduardo Silva,'L1: PatrimÃ´nio Documental: RepresentaÃ§Ã£o, Gerenciamento e PreservaÃ§Ã£o de EspaÃ§os de MemÃ³ria.',2016\n",
      "\n",
      "Eliane Vasconcellos,'L1: PatrimÃ´nio Documental: RepresentaÃ§Ã£o, Gerenciamento e PreservaÃ§Ã£o de EspaÃ§os de MemÃ³ria.',2016\n",
      "\n",
      "Isabel Idelzuite Lustosa da Costa,'L2: PrÃ¡ticas crÃ­ticas em acervos: difusÃ£o, acesso, uso e apropriaÃ§Ã£o do patrimÃ´nio documental material e imaterial.',2016\n",
      "\n",
      "Maria Flora Sussekind,'L2: PrÃ¡ticas crÃ­ticas em acervos: difusÃ£o, acesso, uso e apropriaÃ§Ã£o do patrimÃ´nio documental material e imaterial.',2016\n",
      "\n",
      "JoÃ«lle Rachel Rouchou,'L2: PrÃ¡ticas crÃ­ticas em acervos: difusÃ£o, acesso, uso e apropriaÃ§Ã£o do patrimÃ´nio documental material e imaterial.',2016\n",
      "\n",
      "JosÃ© Almino de Alencar e Silva Neto,'L2: PrÃ¡ticas crÃ­ticas em acervos: difusÃ£o, acesso, uso e apropriaÃ§Ã£o do patrimÃ´nio documental material e imaterial.',2016\n",
      "\n",
      "Laura do Carmo,'L2: PrÃ¡ticas crÃ­ticas em acervos: difusÃ£o, acesso, uso e apropriaÃ§Ã£o do patrimÃ´nio documental material e imaterial.',2016\n",
      "\n",
      "Lia Calabre de Azevedo,'L2: PrÃ¡ticas crÃ­ticas em acervos: difusÃ£o, acesso, uso e apropriaÃ§Ã£o do patrimÃ´nio documental material e imaterial.',2016\n",
      "\n",
      "Lucia Maria Velloso de Oliveira,'L1: PatrimÃ´nio Documental: RepresentaÃ§Ã£o, Gerenciamento e PreservaÃ§Ã£o de EspaÃ§os de MemÃ³ria.',2016\n",
      "\n",
      "Luis Fernando SayÃ£o,'L1: PatrimÃ´nio Documental: RepresentaÃ§Ã£o, Gerenciamento e PreservaÃ§Ã£o de EspaÃ§os de MemÃ³ria.',2016\n",
      "\n",
      "Maria Luisa Ramos de Oliveira Soares,'L1: PatrimÃ´nio Documental: RepresentaÃ§Ã£o, Gerenciamento e PreservaÃ§Ã£o de EspaÃ§os de MemÃ³ria.',2016\n",
      "\n",
      "Marta de Senna,'L2: PrÃ¡ticas crÃ­ticas em acervos: difusÃ£o, acesso, uso e apropriaÃ§Ã£o do patrimÃ´nio documental material e imaterial.',2016\n",
      "\n",
      "Mauricio Siqueira,'L2: PrÃ¡ticas crÃ­ticas em acervos: difusÃ£o, acesso, uso e apropriaÃ§Ã£o do patrimÃ´nio documental material e imaterial.',2016\n",
      "\n",
      "MÃ´nica Pimenta Velloso ,'L2: PrÃ¡ticas crÃ­ticas em acervos: difusÃ£o, acesso, uso e apropriaÃ§Ã£o do patrimÃ´nio documental material e imaterial.',2016\n",
      "\n",
      "Soraia Farias Reolon Pereira,'L2: PrÃ¡ticas crÃ­ticas em acervos: difusÃ£o, acesso, uso e apropriaÃ§Ã£o do patrimÃ´nio documental material e imaterial.',2016\n",
      "\n",
      "Ana CÃ©lia Rodrigues,'L1: PatrimÃ´nio Documental: RepresentaÃ§Ã£o, Gerenciamento e PreservaÃ§Ã£o de EspaÃ§os de MemÃ³ria.',2017\n",
      "\n",
      "Ana Maria Pessoa dos Santos,'L1: PatrimÃ´nio Documental: RepresentaÃ§Ã£o, Gerenciamento e PreservaÃ§Ã£o de EspaÃ§os de MemÃ³ria.',2017\n",
      "\n",
      "Antonio Herculano Lopes,'L2: PrÃ¡ticas crÃ­ticas em acervos: difusÃ£o, acesso, uso e apropriaÃ§Ã£o do patrimÃ´nio documental material e imaterial.',2017\n",
      "\n",
      "Aparecida Marina de Souza Rangel,'L1: PatrimÃ´nio Documental: RepresentaÃ§Ã£o, Gerenciamento e PreservaÃ§Ã£o de EspaÃ§os de MemÃ³ria.',2017\n",
      "\n",
      "Charles Matheus Pontes Gomes,'L2: PrÃ¡ticas crÃ­ticas em acervos: difusÃ£o, acesso, uso e apropriaÃ§Ã£o do patrimÃ´nio documental material e imaterial.',2017\n",
      "\n",
      "Claudia Suely Rodrigues Carvalho,'L1: PatrimÃ´nio Documental: RepresentaÃ§Ã£o, Gerenciamento e PreservaÃ§Ã£o de EspaÃ§os de MemÃ³ria.',2017\n",
      "\n",
      "Edmar Moraes GonÃ§alves,'L1: PatrimÃ´nio Documental: RepresentaÃ§Ã£o, Gerenciamento e PreservaÃ§Ã£o de EspaÃ§os de MemÃ³ria.',2017\n",
      "\n",
      "Eliane Vasconcellos,'L1: PatrimÃ´nio Documental: RepresentaÃ§Ã£o, Gerenciamento e PreservaÃ§Ã£o de EspaÃ§os de MemÃ³ria.',2017\n",
      "\n",
      "Maria Flora Sussekind,'L2: PrÃ¡ticas crÃ­ticas em acervos: difusÃ£o, acesso, uso e apropriaÃ§Ã£o do patrimÃ´nio documental material e imaterial.',2017\n",
      "\n",
      "JoÃ«lle Rachel Rouchou,'L2: PrÃ¡ticas crÃ­ticas em acervos: difusÃ£o, acesso, uso e apropriaÃ§Ã£o do patrimÃ´nio documental material e imaterial.',2017\n",
      "\n",
      "Laura do Carmo,'L2: PrÃ¡ticas crÃ­ticas em acervos: difusÃ£o, acesso, uso e apropriaÃ§Ã£o do patrimÃ´nio documental material e imaterial.',2017\n",
      "\n",
      "Lia Calabre de Azevedo,'L2: PrÃ¡ticas crÃ­ticas em acervos: difusÃ£o, acesso, uso e apropriaÃ§Ã£o do patrimÃ´nio documental material e imaterial.',2017\n",
      "\n",
      "Lucia Maria Velloso de Oliveira,'L1: PatrimÃ´nio Documental: RepresentaÃ§Ã£o, Gerenciamento e PreservaÃ§Ã£o de EspaÃ§os de MemÃ³ria.',2017\n",
      "\n",
      "Luis Fernando SayÃ£o,'L1: PatrimÃ´nio Documental: RepresentaÃ§Ã£o, Gerenciamento e PreservaÃ§Ã£o de EspaÃ§os de MemÃ³ria.',2017\n",
      "\n",
      "Margareth da Silva,'L1: PatrimÃ´nio Documental: RepresentaÃ§Ã£o, Gerenciamento e PreservaÃ§Ã£o de EspaÃ§os de MemÃ³ria.',2017\n",
      "\n",
      "Marta de Senna,'L2: PrÃ¡ticas crÃ­ticas em acervos: difusÃ£o, acesso, uso e apropriaÃ§Ã£o do patrimÃ´nio documental material e imaterial.',2017\n",
      "\n",
      "Mauricio Siqueira,'L2: PrÃ¡ticas crÃ­ticas em acervos: difusÃ£o, acesso, uso e apropriaÃ§Ã£o do patrimÃ´nio documental material e imaterial.',2017\n",
      "\n",
      "Soraia Farias Reolon Pereira,'L2: PrÃ¡ticas crÃ­ticas em acervos: difusÃ£o, acesso, uso e apropriaÃ§Ã£o do patrimÃ´nio documental material e imaterial.',2017\n",
      "\n",
      "Ana CÃ©lia Rodrigues,'L1: PatrimÃ´nio Documental: RepresentaÃ§Ã£o, Gerenciamento e PreservaÃ§Ã£o de EspaÃ§os de MemÃ³ria.',2018\n",
      "\n",
      "Ana LÃ­gia Medeiros,'L1: PatrimÃ´nio Documental: RepresentaÃ§Ã£o, Gerenciamento e PreservaÃ§Ã£o de EspaÃ§os de MemÃ³ria.',2018\n",
      "\n",
      "Ana Maria Pessoa dos Santos,'L2: PrÃ¡ticas crÃ­ticas em acervos: difusÃ£o, acesso, uso e apropriaÃ§Ã£o do patrimÃ´nio documental material e imaterial.',2018\n",
      "\n",
      "Antonio Herculano Lopes,'L2: PrÃ¡ticas crÃ­ticas em acervos: difusÃ£o, acesso, uso e apropriaÃ§Ã£o do patrimÃ´nio documental material e imaterial.',2018\n",
      "\n",
      "Aparecida Marina de Souza Rangel,'L1: PatrimÃ´nio Documental: RepresentaÃ§Ã£o, Gerenciamento e PreservaÃ§Ã£o de EspaÃ§os de MemÃ³ria.',2018\n",
      "\n",
      "Charles Matheus Pontes Gomes,'L2: PrÃ¡ticas crÃ­ticas em acervos: difusÃ£o, acesso, uso e apropriaÃ§Ã£o do patrimÃ´nio documental material e imaterial.',2018\n",
      "\n",
      "Christian Edward Cyril Lynch,'L2: PrÃ¡ticas crÃ­ticas em acervos: difusÃ£o, acesso, uso e apropriaÃ§Ã£o do patrimÃ´nio documental material e imaterial.',2018\n",
      "\n",
      "Claudia Suely Rodrigues Carvalho,'L1: PatrimÃ´nio Documental: RepresentaÃ§Ã£o, Gerenciamento e PreservaÃ§Ã£o de EspaÃ§os de MemÃ³ria.',2018\n",
      "\n",
      "Edmar Moraes GonÃ§alves,'L1: PatrimÃ´nio Documental: RepresentaÃ§Ã£o, Gerenciamento e PreservaÃ§Ã£o de EspaÃ§os de MemÃ³ria.',2018\n",
      "\n",
      "Eduardo Silva,'L1: PatrimÃ´nio Documental: RepresentaÃ§Ã£o, Gerenciamento e PreservaÃ§Ã£o de EspaÃ§os de MemÃ³ria.',2018\n",
      "\n",
      "Eula Dantas Taveira Cabral,'L2: PrÃ¡ticas crÃ­ticas em acervos: difusÃ£o, acesso, uso e apropriaÃ§Ã£o do patrimÃ´nio documental material e imaterial.',2018\n",
      "\n",
      "Maria Flora Sussekind,'L2: PrÃ¡ticas crÃ­ticas em acervos: difusÃ£o, acesso, uso e apropriaÃ§Ã£o do patrimÃ´nio documental material e imaterial.',2018\n",
      "\n",
      "JoÃ«lle Rachel Rouchou,'L2: PrÃ¡ticas crÃ­ticas em acervos: difusÃ£o, acesso, uso e apropriaÃ§Ã£o do patrimÃ´nio documental material e imaterial.',2018\n",
      "\n",
      "JosÃ© Almino de Alencar e Silva Neto,'L2: PrÃ¡ticas crÃ­ticas em acervos: difusÃ£o, acesso, uso e apropriaÃ§Ã£o do patrimÃ´nio documental material e imaterial.',2018\n",
      "\n",
      "Laura do Carmo,'L2: PrÃ¡ticas crÃ­ticas em acervos: difusÃ£o, acesso, uso e apropriaÃ§Ã£o do patrimÃ´nio documental material e imaterial.',2018\n",
      "\n",
      "Lia Calabre de Azevedo,'L2: PrÃ¡ticas crÃ­ticas em acervos: difusÃ£o, acesso, uso e apropriaÃ§Ã£o do patrimÃ´nio documental material e imaterial.',2018\n",
      "\n",
      "Lucia Maria Velloso de Oliveira,'L1: PatrimÃ´nio Documental: RepresentaÃ§Ã£o, Gerenciamento e PreservaÃ§Ã£o de EspaÃ§os de MemÃ³ria.',2018\n",
      "\n",
      "Luis Fernando SayÃ£o,'L1: PatrimÃ´nio Documental: RepresentaÃ§Ã£o, Gerenciamento e PreservaÃ§Ã£o de EspaÃ§os de MemÃ³ria.',2018\n",
      "\n",
      "Maria Luisa Ramos de Oliveira Soares,'L1: PatrimÃ´nio Documental: RepresentaÃ§Ã£o, Gerenciamento e PreservaÃ§Ã£o de EspaÃ§os de MemÃ³ria.',2018\n",
      "\n",
      "Margareth da Silva,'L1: PatrimÃ´nio Documental: RepresentaÃ§Ã£o, Gerenciamento e PreservaÃ§Ã£o de EspaÃ§os de MemÃ³ria.',2018\n",
      "\n",
      "Soraia Farias Reolon Pereira,'L2: PrÃ¡ticas crÃ­ticas em acervos: difusÃ£o, acesso, uso e apropriaÃ§Ã£o do patrimÃ´nio documental material e imaterial.',2018\n",
      "\n",
      "Ana Maria Pessoa dos Santos,'L2: PrÃ¡ticas crÃ­ticas em acervos: difusÃ£o, acesso, uso e apropriaÃ§Ã£o do patrimÃ´nio documental material e imaterial.',2019\n",
      "\n",
      "Antonio Herculano Lopes,'L2: PrÃ¡ticas crÃ­ticas em acervos: difusÃ£o, acesso, uso e apropriaÃ§Ã£o do patrimÃ´nio documental material e imaterial.',2019\n",
      "\n",
      "Aparecida Marina de Souza Rangel,'L1: PatrimÃ´nio Documental: RepresentaÃ§Ã£o, Gerenciamento e PreservaÃ§Ã£o de EspaÃ§os de MemÃ³ria.',2019\n",
      "\n",
      "Charles Matheus Pontes Gomes,'L2: PrÃ¡ticas crÃ­ticas em acervos: difusÃ£o, acesso, uso e apropriaÃ§Ã£o do patrimÃ´nio documental material e imaterial.',2019\n",
      "\n",
      "Christian Edward Cyril Lynch,'L2: PrÃ¡ticas crÃ­ticas em acervos: difusÃ£o, acesso, uso e apropriaÃ§Ã£o do patrimÃ´nio documental material e imaterial.',2019\n",
      "\n",
      "Claudia Suely Rodrigues Carvalho,'L1: PatrimÃ´nio Documental: RepresentaÃ§Ã£o, Gerenciamento e PreservaÃ§Ã£o de EspaÃ§os de MemÃ³ria.',2019\n",
      "\n",
      "Edmar Moraes GonÃ§alves,'L1: PatrimÃ´nio Documental: RepresentaÃ§Ã£o, Gerenciamento e PreservaÃ§Ã£o de EspaÃ§os de MemÃ³ria.',2019\n",
      "\n",
      "Eliane Vasconcellos,'L1: PatrimÃ´nio Documental: RepresentaÃ§Ã£o, Gerenciamento e PreservaÃ§Ã£o de EspaÃ§os de MemÃ³ria.',2019\n",
      "\n",
      "Eula Dantas Taveira Cabral,'L2: PrÃ¡ticas crÃ­ticas em acervos: difusÃ£o, acesso, uso e apropriaÃ§Ã£o do patrimÃ´nio documental material e imaterial.',2019\n",
      "\n",
      "FÃ¡bio JosÃ© Kerche Nunes,'L2: PrÃ¡ticas crÃ­ticas em acervos: difusÃ£o, acesso, uso e apropriaÃ§Ã£o do patrimÃ´nio documental material e imaterial.',2019\n",
      "\n",
      "Maria Flora Sussekind,'L2: PrÃ¡ticas crÃ­ticas em acervos: difusÃ£o, acesso, uso e apropriaÃ§Ã£o do patrimÃ´nio documental material e imaterial.',2019\n",
      "\n",
      "JoÃ«lle Rachel Rouchou,'L2: PrÃ¡ticas crÃ­ticas em acervos: difusÃ£o, acesso, uso e apropriaÃ§Ã£o do patrimÃ´nio documental material e imaterial.',2019\n",
      "\n",
      "JosÃ© Almino de Alencar e Silva Neto,'L2: PrÃ¡ticas crÃ­ticas em acervos: difusÃ£o, acesso, uso e apropriaÃ§Ã£o do patrimÃ´nio documental material e imaterial.',2019\n",
      "\n",
      "JosÃ© Maria Jardim,'L1: PatrimÃ´nio Documental: RepresentaÃ§Ã£o, Gerenciamento e PreservaÃ§Ã£o de EspaÃ§os de MemÃ³ria.',2019\n",
      "\n",
      "Laura do Carmo,'L2: PrÃ¡ticas crÃ­ticas em acervos: difusÃ£o, acesso, uso e apropriaÃ§Ã£o do patrimÃ´nio documental material e imaterial.',2019\n",
      "\n",
      "Lia Calabre de Azevedo,'L2: PrÃ¡ticas crÃ­ticas em acervos: difusÃ£o, acesso, uso e apropriaÃ§Ã£o do patrimÃ´nio documental material e imaterial.',2019\n",
      "\n",
      "Luis Fernando SayÃ£o,'L1: PatrimÃ´nio Documental: RepresentaÃ§Ã£o, Gerenciamento e PreservaÃ§Ã£o de EspaÃ§os de MemÃ³ria.',2019\n",
      "\n",
      "Maria Luisa Ramos de Oliveira Soares,'L1: PatrimÃ´nio Documental: RepresentaÃ§Ã£o, Gerenciamento e PreservaÃ§Ã£o de EspaÃ§os de MemÃ³ria.',2019\n",
      "\n",
      "Margareth da Silva,'L1: PatrimÃ´nio Documental: RepresentaÃ§Ã£o, Gerenciamento e PreservaÃ§Ã£o de EspaÃ§os de MemÃ³ria.',2019\n",
      "\n",
      "Soraia Farias Reolon Pereira,'L2: PrÃ¡ticas crÃ­ticas em acervos: difusÃ£o, acesso, uso e apropriaÃ§Ã£o do patrimÃ´nio documental material e imaterial.',2019\n",
      "\n",
      "Ana LÃ­gia Medeiros,'L1: PatrimÃ´nio Documental: RepresentaÃ§Ã£o, Gerenciamento e PreservaÃ§Ã£o de EspaÃ§os de MemÃ³ria.',2020\n",
      "\n",
      "Ana Maria Pessoa dos Santos,'L2: PrÃ¡ticas crÃ­ticas em acervos: difusÃ£o, acesso, uso e apropriaÃ§Ã£o do patrimÃ´nio documental material e imaterial.',2020\n",
      "\n",
      "Antonio Herculano Lopes,'L2: PrÃ¡ticas crÃ­ticas em acervos: difusÃ£o, acesso, uso e apropriaÃ§Ã£o do patrimÃ´nio documental material e imaterial.',2020\n",
      "\n",
      "Aparecida Marina de Souza Rangel,'L1: PatrimÃ´nio Documental: RepresentaÃ§Ã£o, Gerenciamento e PreservaÃ§Ã£o de EspaÃ§os de MemÃ³ria.',2020\n",
      "\n",
      "Christian Edward Cyril Lynch,'L2: PrÃ¡ticas crÃ­ticas em acervos: difusÃ£o, acesso, uso e apropriaÃ§Ã£o do patrimÃ´nio documental material e imaterial.',2020\n",
      "\n",
      "Claudia Suely Rodrigues Carvalho,'L1: PatrimÃ´nio Documental: RepresentaÃ§Ã£o, Gerenciamento e PreservaÃ§Ã£o de EspaÃ§os de MemÃ³ria.',2020\n",
      "\n",
      "Edmar Moraes GonÃ§alves,'L1: PatrimÃ´nio Documental: RepresentaÃ§Ã£o, Gerenciamento e PreservaÃ§Ã£o de EspaÃ§os de MemÃ³ria.',2020\n",
      "\n",
      "Eula Dantas Taveira Cabral,'L2: PrÃ¡ticas crÃ­ticas em acervos: difusÃ£o, acesso, uso e apropriaÃ§Ã£o do patrimÃ´nio documental material e imaterial.',2020\n",
      "\n",
      "Isabel Idelzuite Lustosa da Costa,'L2: PrÃ¡ticas crÃ­ticas em acervos: difusÃ£o, acesso, uso e apropriaÃ§Ã£o do patrimÃ´nio documental material e imaterial.',2020\n",
      "\n",
      "Maria Flora Sussekind,'L2: PrÃ¡ticas crÃ­ticas em acervos: difusÃ£o, acesso, uso e apropriaÃ§Ã£o do patrimÃ´nio documental material e imaterial.',2020\n",
      "\n",
      "JoÃ«lle Rachel Rouchou,'L2: PrÃ¡ticas crÃ­ticas em acervos: difusÃ£o, acesso, uso e apropriaÃ§Ã£o do patrimÃ´nio documental material e imaterial.',2020\n",
      "\n",
      "JosÃ© Almino de Alencar e Silva Neto,'L2: PrÃ¡ticas crÃ­ticas em acervos: difusÃ£o, acesso, uso e apropriaÃ§Ã£o do patrimÃ´nio documental material e imaterial.',2020\n",
      "\n",
      "Lia Calabre de Azevedo,'L2: PrÃ¡ticas crÃ­ticas em acervos: difusÃ£o, acesso, uso e apropriaÃ§Ã£o do patrimÃ´nio documental material e imaterial.',2020\n",
      "\n",
      "Lucia Maria Velloso de Oliveira,'L1: PatrimÃ´nio Documental: RepresentaÃ§Ã£o, Gerenciamento e PreservaÃ§Ã£o de EspaÃ§os de MemÃ³ria.',2020\n",
      "\n",
      "Maria Luisa Ramos de Oliveira Soares,'L1: PatrimÃ´nio Documental: RepresentaÃ§Ã£o, Gerenciamento e PreservaÃ§Ã£o de EspaÃ§os de MemÃ³ria.',2020\n",
      "\n",
      "Soraia Farias Reolon Pereira,'L2: PrÃ¡ticas crÃ­ticas em acervos: difusÃ£o, acesso, uso e apropriaÃ§Ã£o do patrimÃ´nio documental material e imaterial.',2020\n",
      "\n",
      "Ana LÃ­gia Medeiros,'L1: PatrimÃ´nio Documental: RepresentaÃ§Ã£o, Gerenciamento e PreservaÃ§Ã£o de EspaÃ§os de MemÃ³ria.',2021\n",
      "\n",
      "Ana Maria Pessoa dos Santos,'L2: PrÃ¡ticas crÃ­ticas em acervos: difusÃ£o, acesso, uso e apropriaÃ§Ã£o do patrimÃ´nio documental material e imaterial.',2021\n",
      "\n",
      "Antonio Herculano Lopes,'L2: PrÃ¡ticas crÃ­ticas em acervos: difusÃ£o, acesso, uso e apropriaÃ§Ã£o do patrimÃ´nio documental material e imaterial.',2021\n",
      "\n",
      "Aparecida Marina de Souza Rangel,'L1: PatrimÃ´nio Documental: RepresentaÃ§Ã£o, Gerenciamento e PreservaÃ§Ã£o de EspaÃ§os de MemÃ³ria.',2021\n",
      "\n",
      "Claudia Suely Rodrigues Carvalho,'L1: PatrimÃ´nio Documental: RepresentaÃ§Ã£o, Gerenciamento e PreservaÃ§Ã£o de EspaÃ§os de MemÃ³ria.',2021\n",
      "\n",
      "Edmar Moraes GonÃ§alves,'L1: PatrimÃ´nio Documental: RepresentaÃ§Ã£o, Gerenciamento e PreservaÃ§Ã£o de EspaÃ§os de MemÃ³ria.',2021\n",
      "\n",
      "Eula Dantas Taveira Cabral,'L2: PrÃ¡ticas crÃ­ticas em acervos: difusÃ£o, acesso, uso e apropriaÃ§Ã£o do patrimÃ´nio documental material e imaterial.',2021\n",
      "\n",
      "JoÃ«lle Rachel Rouchou,'L2: PrÃ¡ticas crÃ­ticas em acervos: difusÃ£o, acesso, uso e apropriaÃ§Ã£o do patrimÃ´nio documental material e imaterial.',2021\n",
      "\n",
      "JosÃ© Almino de Alencar e Silva Neto,'L2: PrÃ¡ticas crÃ­ticas em acervos: difusÃ£o, acesso, uso e apropriaÃ§Ã£o do patrimÃ´nio documental material e imaterial.',2021\n",
      "\n",
      "Lia Calabre de Azevedo,'L2: PrÃ¡ticas crÃ­ticas em acervos: difusÃ£o, acesso, uso e apropriaÃ§Ã£o do patrimÃ´nio documental material e imaterial.',2021\n",
      "\n",
      "Lucia Maria Velloso de Oliveira,'L1: PatrimÃ´nio Documental: RepresentaÃ§Ã£o, Gerenciamento e PreservaÃ§Ã£o de EspaÃ§os de MemÃ³ria.',2021\n",
      "\n",
      "Luis Fernando SayÃ£o,'L1: PatrimÃ´nio Documental: RepresentaÃ§Ã£o, Gerenciamento e PreservaÃ§Ã£o de EspaÃ§os de MemÃ³ria.',2021\n",
      "\n",
      "Margareth da Silva,'L1: PatrimÃ´nio Documental: RepresentaÃ§Ã£o, Gerenciamento e PreservaÃ§Ã£o de EspaÃ§os de MemÃ³ria.',2021\n",
      "\n",
      "Maria Luisa Ramos de Oliveira Soares,'L1: PatrimÃ´nio Documental: RepresentaÃ§Ã£o, Gerenciamento e PreservaÃ§Ã£o de EspaÃ§os de MemÃ³ria.',2021\n",
      "\n",
      "Soraia Farias Reolon Pereira,'L2: PrÃ¡ticas crÃ­ticas em acervos: difusÃ£o, acesso, uso e apropriaÃ§Ã£o do patrimÃ´nio documental material e imaterial.',2021\n",
      "\n"
     ]
    }
   ],
   "source": [
    "for word in dados:\n",
    "    print(word)"
   ]
  },
  {
   "cell_type": "code",
   "execution_count": 8,
   "metadata": {
    "ExecuteTime": {
     "end_time": "2021-11-06T00:19:37.431222Z",
     "start_time": "2021-11-06T00:19:37.414869Z"
    }
   },
   "outputs": [
    {
     "name": "stdout",
     "output_type": "stream",
     "text": [
      "Docentes,Linha de Pesquisa,Ano\n",
      "Ana CÃ©lia Rodrigues,'L1: PatrimÃ´nio Documental: RepresentaÃ§Ã£o, Gerenciamento e PreservaÃ§Ã£o de EspaÃ§os de MemÃ³ria.',2016\n",
      "Ana LÃ­gia Medeiros,'L1: PatrimÃ´nio Documental: RepresentaÃ§Ã£o, Gerenciamento e PreservaÃ§Ã£o de EspaÃ§os de MemÃ³ria.',2016\n",
      "Ana Maria Pessoa dos Santos,'L2: PrÃ¡ticas crÃ­ticas em acervos: difusÃ£o, acesso, uso e apropriaÃ§Ã£o do patrimÃ´nio documental material e imaterial.',2016\n",
      "Antonio Herculano Lopes,'L2: PrÃ¡ticas crÃ­ticas em acervos: difusÃ£o, acesso, uso e apropriaÃ§Ã£o do patrimÃ´nio documental material e imaterial.',2016\n",
      "Aparecida Marina de Souza Rangel,'L1: PatrimÃ´nio Documental: RepresentaÃ§Ã£o, Gerenciamento e PreservaÃ§Ã£o de EspaÃ§os de MemÃ³ria.',2016\n",
      "Charles Matheus Pontes Gomes,'L2: PrÃ¡ticas crÃ­ticas em acervos: difusÃ£o, acesso, uso e apropriaÃ§Ã£o do patrimÃ´nio documental material e imaterial.',2016\n",
      "Christian Edward Cyril Lynch,'L2: PrÃ¡ticas crÃ­ticas em acervos: difusÃ£o, acesso, uso e apropriaÃ§Ã£o do patrimÃ´nio documental material e imaterial.',2016\n",
      "Claudia Suely Rodrigues Carvalho,'L1: PatrimÃ´nio Documental: RepresentaÃ§Ã£o, Gerenciamento e PreservaÃ§Ã£o de EspaÃ§os de MemÃ³ria.',2016\n",
      "Edmar Moraes GonÃ§alves,'L1: PatrimÃ´nio Documental: RepresentaÃ§Ã£o, Gerenciamento e PreservaÃ§Ã£o de EspaÃ§os de MemÃ³ria.',2016\n",
      "Eduardo Silva,'L1: PatrimÃ´nio Documental: RepresentaÃ§Ã£o, Gerenciamento e PreservaÃ§Ã£o de EspaÃ§os de MemÃ³ria.',2016\n",
      "Eliane Vasconcellos,'L1: PatrimÃ´nio Documental: RepresentaÃ§Ã£o, Gerenciamento e PreservaÃ§Ã£o de EspaÃ§os de MemÃ³ria.',2016\n",
      "Isabel Idelzuite Lustosa da Costa,'L2: PrÃ¡ticas crÃ­ticas em acervos: difusÃ£o, acesso, uso e apropriaÃ§Ã£o do patrimÃ´nio documental material e imaterial.',2016\n",
      "Maria Flora Sussekind,'L2: PrÃ¡ticas crÃ­ticas em acervos: difusÃ£o, acesso, uso e apropriaÃ§Ã£o do patrimÃ´nio documental material e imaterial.',2016\n",
      "JoÃ«lle Rachel Rouchou,'L2: PrÃ¡ticas crÃ­ticas em acervos: difusÃ£o, acesso, uso e apropriaÃ§Ã£o do patrimÃ´nio documental material e imaterial.',2016\n",
      "JosÃ© Almino de Alencar e Silva Neto,'L2: PrÃ¡ticas crÃ­ticas em acervos: difusÃ£o, acesso, uso e apropriaÃ§Ã£o do patrimÃ´nio documental material e imaterial.',2016\n",
      "Laura do Carmo,'L2: PrÃ¡ticas crÃ­ticas em acervos: difusÃ£o, acesso, uso e apropriaÃ§Ã£o do patrimÃ´nio documental material e imaterial.',2016\n",
      "Lia Calabre de Azevedo,'L2: PrÃ¡ticas crÃ­ticas em acervos: difusÃ£o, acesso, uso e apropriaÃ§Ã£o do patrimÃ´nio documental material e imaterial.',2016\n",
      "Lucia Maria Velloso de Oliveira,'L1: PatrimÃ´nio Documental: RepresentaÃ§Ã£o, Gerenciamento e PreservaÃ§Ã£o de EspaÃ§os de MemÃ³ria.',2016\n",
      "Luis Fernando SayÃ£o,'L1: PatrimÃ´nio Documental: RepresentaÃ§Ã£o, Gerenciamento e PreservaÃ§Ã£o de EspaÃ§os de MemÃ³ria.',2016\n",
      "Maria Luisa Ramos de Oliveira Soares,'L1: PatrimÃ´nio Documental: RepresentaÃ§Ã£o, Gerenciamento e PreservaÃ§Ã£o de EspaÃ§os de MemÃ³ria.',2016\n",
      "Marta de Senna,'L2: PrÃ¡ticas crÃ­ticas em acervos: difusÃ£o, acesso, uso e apropriaÃ§Ã£o do patrimÃ´nio documental material e imaterial.',2016\n",
      "Mauricio Siqueira,'L2: PrÃ¡ticas crÃ­ticas em acervos: difusÃ£o, acesso, uso e apropriaÃ§Ã£o do patrimÃ´nio documental material e imaterial.',2016\n",
      "MÃ´nica Pimenta Velloso ,'L2: PrÃ¡ticas crÃ­ticas em acervos: difusÃ£o, acesso, uso e apropriaÃ§Ã£o do patrimÃ´nio documental material e imaterial.',2016\n",
      "Soraia Farias Reolon Pereira,'L2: PrÃ¡ticas crÃ­ticas em acervos: difusÃ£o, acesso, uso e apropriaÃ§Ã£o do patrimÃ´nio documental material e imaterial.',2016\n",
      "Ana CÃ©lia Rodrigues,'L1: PatrimÃ´nio Documental: RepresentaÃ§Ã£o, Gerenciamento e PreservaÃ§Ã£o de EspaÃ§os de MemÃ³ria.',2017\n",
      "Ana Maria Pessoa dos Santos,'L1: PatrimÃ´nio Documental: RepresentaÃ§Ã£o, Gerenciamento e PreservaÃ§Ã£o de EspaÃ§os de MemÃ³ria.',2017\n",
      "Antonio Herculano Lopes,'L2: PrÃ¡ticas crÃ­ticas em acervos: difusÃ£o, acesso, uso e apropriaÃ§Ã£o do patrimÃ´nio documental material e imaterial.',2017\n",
      "Aparecida Marina de Souza Rangel,'L1: PatrimÃ´nio Documental: RepresentaÃ§Ã£o, Gerenciamento e PreservaÃ§Ã£o de EspaÃ§os de MemÃ³ria.',2017\n",
      "Charles Matheus Pontes Gomes,'L2: PrÃ¡ticas crÃ­ticas em acervos: difusÃ£o, acesso, uso e apropriaÃ§Ã£o do patrimÃ´nio documental material e imaterial.',2017\n",
      "Claudia Suely Rodrigues Carvalho,'L1: PatrimÃ´nio Documental: RepresentaÃ§Ã£o, Gerenciamento e PreservaÃ§Ã£o de EspaÃ§os de MemÃ³ria.',2017\n",
      "Edmar Moraes GonÃ§alves,'L1: PatrimÃ´nio Documental: RepresentaÃ§Ã£o, Gerenciamento e PreservaÃ§Ã£o de EspaÃ§os de MemÃ³ria.',2017\n",
      "Eliane Vasconcellos,'L1: PatrimÃ´nio Documental: RepresentaÃ§Ã£o, Gerenciamento e PreservaÃ§Ã£o de EspaÃ§os de MemÃ³ria.',2017\n",
      "Maria Flora Sussekind,'L2: PrÃ¡ticas crÃ­ticas em acervos: difusÃ£o, acesso, uso e apropriaÃ§Ã£o do patrimÃ´nio documental material e imaterial.',2017\n",
      "JoÃ«lle Rachel Rouchou,'L2: PrÃ¡ticas crÃ­ticas em acervos: difusÃ£o, acesso, uso e apropriaÃ§Ã£o do patrimÃ´nio documental material e imaterial.',2017\n",
      "Laura do Carmo,'L2: PrÃ¡ticas crÃ­ticas em acervos: difusÃ£o, acesso, uso e apropriaÃ§Ã£o do patrimÃ´nio documental material e imaterial.',2017\n",
      "Lia Calabre de Azevedo,'L2: PrÃ¡ticas crÃ­ticas em acervos: difusÃ£o, acesso, uso e apropriaÃ§Ã£o do patrimÃ´nio documental material e imaterial.',2017\n",
      "Lucia Maria Velloso de Oliveira,'L1: PatrimÃ´nio Documental: RepresentaÃ§Ã£o, Gerenciamento e PreservaÃ§Ã£o de EspaÃ§os de MemÃ³ria.',2017\n",
      "Luis Fernando SayÃ£o,'L1: PatrimÃ´nio Documental: RepresentaÃ§Ã£o, Gerenciamento e PreservaÃ§Ã£o de EspaÃ§os de MemÃ³ria.',2017\n",
      "Margareth da Silva,'L1: PatrimÃ´nio Documental: RepresentaÃ§Ã£o, Gerenciamento e PreservaÃ§Ã£o de EspaÃ§os de MemÃ³ria.',2017\n",
      "Marta de Senna,'L2: PrÃ¡ticas crÃ­ticas em acervos: difusÃ£o, acesso, uso e apropriaÃ§Ã£o do patrimÃ´nio documental material e imaterial.',2017\n",
      "Mauricio Siqueira,'L2: PrÃ¡ticas crÃ­ticas em acervos: difusÃ£o, acesso, uso e apropriaÃ§Ã£o do patrimÃ´nio documental material e imaterial.',2017\n",
      "Soraia Farias Reolon Pereira,'L2: PrÃ¡ticas crÃ­ticas em acervos: difusÃ£o, acesso, uso e apropriaÃ§Ã£o do patrimÃ´nio documental material e imaterial.',2017\n",
      "Ana CÃ©lia Rodrigues,'L1: PatrimÃ´nio Documental: RepresentaÃ§Ã£o, Gerenciamento e PreservaÃ§Ã£o de EspaÃ§os de MemÃ³ria.',2018\n",
      "Ana LÃ­gia Medeiros,'L1: PatrimÃ´nio Documental: RepresentaÃ§Ã£o, Gerenciamento e PreservaÃ§Ã£o de EspaÃ§os de MemÃ³ria.',2018\n",
      "Ana Maria Pessoa dos Santos,'L2: PrÃ¡ticas crÃ­ticas em acervos: difusÃ£o, acesso, uso e apropriaÃ§Ã£o do patrimÃ´nio documental material e imaterial.',2018\n",
      "Antonio Herculano Lopes,'L2: PrÃ¡ticas crÃ­ticas em acervos: difusÃ£o, acesso, uso e apropriaÃ§Ã£o do patrimÃ´nio documental material e imaterial.',2018\n",
      "Aparecida Marina de Souza Rangel,'L1: PatrimÃ´nio Documental: RepresentaÃ§Ã£o, Gerenciamento e PreservaÃ§Ã£o de EspaÃ§os de MemÃ³ria.',2018\n",
      "Charles Matheus Pontes Gomes,'L2: PrÃ¡ticas crÃ­ticas em acervos: difusÃ£o, acesso, uso e apropriaÃ§Ã£o do patrimÃ´nio documental material e imaterial.',2018\n",
      "Christian Edward Cyril Lynch,'L2: PrÃ¡ticas crÃ­ticas em acervos: difusÃ£o, acesso, uso e apropriaÃ§Ã£o do patrimÃ´nio documental material e imaterial.',2018\n",
      "Claudia Suely Rodrigues Carvalho,'L1: PatrimÃ´nio Documental: RepresentaÃ§Ã£o, Gerenciamento e PreservaÃ§Ã£o de EspaÃ§os de MemÃ³ria.',2018\n",
      "Edmar Moraes GonÃ§alves,'L1: PatrimÃ´nio Documental: RepresentaÃ§Ã£o, Gerenciamento e PreservaÃ§Ã£o de EspaÃ§os de MemÃ³ria.',2018\n",
      "Eduardo Silva,'L1: PatrimÃ´nio Documental: RepresentaÃ§Ã£o, Gerenciamento e PreservaÃ§Ã£o de EspaÃ§os de MemÃ³ria.',2018\n",
      "Eula Dantas Taveira Cabral,'L2: PrÃ¡ticas crÃ­ticas em acervos: difusÃ£o, acesso, uso e apropriaÃ§Ã£o do patrimÃ´nio documental material e imaterial.',2018\n",
      "Maria Flora Sussekind,'L2: PrÃ¡ticas crÃ­ticas em acervos: difusÃ£o, acesso, uso e apropriaÃ§Ã£o do patrimÃ´nio documental material e imaterial.',2018\n",
      "JoÃ«lle Rachel Rouchou,'L2: PrÃ¡ticas crÃ­ticas em acervos: difusÃ£o, acesso, uso e apropriaÃ§Ã£o do patrimÃ´nio documental material e imaterial.',2018\n",
      "JosÃ© Almino de Alencar e Silva Neto,'L2: PrÃ¡ticas crÃ­ticas em acervos: difusÃ£o, acesso, uso e apropriaÃ§Ã£o do patrimÃ´nio documental material e imaterial.',2018\n",
      "Laura do Carmo,'L2: PrÃ¡ticas crÃ­ticas em acervos: difusÃ£o, acesso, uso e apropriaÃ§Ã£o do patrimÃ´nio documental material e imaterial.',2018\n",
      "Lia Calabre de Azevedo,'L2: PrÃ¡ticas crÃ­ticas em acervos: difusÃ£o, acesso, uso e apropriaÃ§Ã£o do patrimÃ´nio documental material e imaterial.',2018\n",
      "Lucia Maria Velloso de Oliveira,'L1: PatrimÃ´nio Documental: RepresentaÃ§Ã£o, Gerenciamento e PreservaÃ§Ã£o de EspaÃ§os de MemÃ³ria.',2018\n",
      "Luis Fernando SayÃ£o,'L1: PatrimÃ´nio Documental: RepresentaÃ§Ã£o, Gerenciamento e PreservaÃ§Ã£o de EspaÃ§os de MemÃ³ria.',2018\n",
      "Maria Luisa Ramos de Oliveira Soares,'L1: PatrimÃ´nio Documental: RepresentaÃ§Ã£o, Gerenciamento e PreservaÃ§Ã£o de EspaÃ§os de MemÃ³ria.',2018\n",
      "Margareth da Silva,'L1: PatrimÃ´nio Documental: RepresentaÃ§Ã£o, Gerenciamento e PreservaÃ§Ã£o de EspaÃ§os de MemÃ³ria.',2018\n",
      "Soraia Farias Reolon Pereira,'L2: PrÃ¡ticas crÃ­ticas em acervos: difusÃ£o, acesso, uso e apropriaÃ§Ã£o do patrimÃ´nio documental material e imaterial.',2018\n",
      "Ana Maria Pessoa dos Santos,'L2: PrÃ¡ticas crÃ­ticas em acervos: difusÃ£o, acesso, uso e apropriaÃ§Ã£o do patrimÃ´nio documental material e imaterial.',2019\n",
      "Antonio Herculano Lopes,'L2: PrÃ¡ticas crÃ­ticas em acervos: difusÃ£o, acesso, uso e apropriaÃ§Ã£o do patrimÃ´nio documental material e imaterial.',2019\n",
      "Aparecida Marina de Souza Rangel,'L1: PatrimÃ´nio Documental: RepresentaÃ§Ã£o, Gerenciamento e PreservaÃ§Ã£o de EspaÃ§os de MemÃ³ria.',2019\n",
      "Charles Matheus Pontes Gomes,'L2: PrÃ¡ticas crÃ­ticas em acervos: difusÃ£o, acesso, uso e apropriaÃ§Ã£o do patrimÃ´nio documental material e imaterial.',2019\n",
      "Christian Edward Cyril Lynch,'L2: PrÃ¡ticas crÃ­ticas em acervos: difusÃ£o, acesso, uso e apropriaÃ§Ã£o do patrimÃ´nio documental material e imaterial.',2019\n",
      "Claudia Suely Rodrigues Carvalho,'L1: PatrimÃ´nio Documental: RepresentaÃ§Ã£o, Gerenciamento e PreservaÃ§Ã£o de EspaÃ§os de MemÃ³ria.',2019\n",
      "Edmar Moraes GonÃ§alves,'L1: PatrimÃ´nio Documental: RepresentaÃ§Ã£o, Gerenciamento e PreservaÃ§Ã£o de EspaÃ§os de MemÃ³ria.',2019\n",
      "Eliane Vasconcellos,'L1: PatrimÃ´nio Documental: RepresentaÃ§Ã£o, Gerenciamento e PreservaÃ§Ã£o de EspaÃ§os de MemÃ³ria.',2019\n",
      "Eula Dantas Taveira Cabral,'L2: PrÃ¡ticas crÃ­ticas em acervos: difusÃ£o, acesso, uso e apropriaÃ§Ã£o do patrimÃ´nio documental material e imaterial.',2019\n",
      "FÃ¡bio JosÃ© Kerche Nunes,'L2: PrÃ¡ticas crÃ­ticas em acervos: difusÃ£o, acesso, uso e apropriaÃ§Ã£o do patrimÃ´nio documental material e imaterial.',2019\n",
      "Maria Flora Sussekind,'L2: PrÃ¡ticas crÃ­ticas em acervos: difusÃ£o, acesso, uso e apropriaÃ§Ã£o do patrimÃ´nio documental material e imaterial.',2019\n",
      "JoÃ«lle Rachel Rouchou,'L2: PrÃ¡ticas crÃ­ticas em acervos: difusÃ£o, acesso, uso e apropriaÃ§Ã£o do patrimÃ´nio documental material e imaterial.',2019\n",
      "JosÃ© Almino de Alencar e Silva Neto,'L2: PrÃ¡ticas crÃ­ticas em acervos: difusÃ£o, acesso, uso e apropriaÃ§Ã£o do patrimÃ´nio documental material e imaterial.',2019\n",
      "JosÃ© Maria Jardim,'L1: PatrimÃ´nio Documental: RepresentaÃ§Ã£o, Gerenciamento e PreservaÃ§Ã£o de EspaÃ§os de MemÃ³ria.',2019\n",
      "Laura do Carmo,'L2: PrÃ¡ticas crÃ­ticas em acervos: difusÃ£o, acesso, uso e apropriaÃ§Ã£o do patrimÃ´nio documental material e imaterial.',2019\n",
      "Lia Calabre de Azevedo,'L2: PrÃ¡ticas crÃ­ticas em acervos: difusÃ£o, acesso, uso e apropriaÃ§Ã£o do patrimÃ´nio documental material e imaterial.',2019\n",
      "Luis Fernando SayÃ£o,'L1: PatrimÃ´nio Documental: RepresentaÃ§Ã£o, Gerenciamento e PreservaÃ§Ã£o de EspaÃ§os de MemÃ³ria.',2019\n",
      "Maria Luisa Ramos de Oliveira Soares,'L1: PatrimÃ´nio Documental: RepresentaÃ§Ã£o, Gerenciamento e PreservaÃ§Ã£o de EspaÃ§os de MemÃ³ria.',2019\n",
      "Margareth da Silva,'L1: PatrimÃ´nio Documental: RepresentaÃ§Ã£o, Gerenciamento e PreservaÃ§Ã£o de EspaÃ§os de MemÃ³ria.',2019\n",
      "Soraia Farias Reolon Pereira,'L2: PrÃ¡ticas crÃ­ticas em acervos: difusÃ£o, acesso, uso e apropriaÃ§Ã£o do patrimÃ´nio documental material e imaterial.',2019\n",
      "Ana LÃ­gia Medeiros,'L1: PatrimÃ´nio Documental: RepresentaÃ§Ã£o, Gerenciamento e PreservaÃ§Ã£o de EspaÃ§os de MemÃ³ria.',2020\n",
      "Ana Maria Pessoa dos Santos,'L2: PrÃ¡ticas crÃ­ticas em acervos: difusÃ£o, acesso, uso e apropriaÃ§Ã£o do patrimÃ´nio documental material e imaterial.',2020\n",
      "Antonio Herculano Lopes,'L2: PrÃ¡ticas crÃ­ticas em acervos: difusÃ£o, acesso, uso e apropriaÃ§Ã£o do patrimÃ´nio documental material e imaterial.',2020\n",
      "Aparecida Marina de Souza Rangel,'L1: PatrimÃ´nio Documental: RepresentaÃ§Ã£o, Gerenciamento e PreservaÃ§Ã£o de EspaÃ§os de MemÃ³ria.',2020\n",
      "Christian Edward Cyril Lynch,'L2: PrÃ¡ticas crÃ­ticas em acervos: difusÃ£o, acesso, uso e apropriaÃ§Ã£o do patrimÃ´nio documental material e imaterial.',2020\n",
      "Claudia Suely Rodrigues Carvalho,'L1: PatrimÃ´nio Documental: RepresentaÃ§Ã£o, Gerenciamento e PreservaÃ§Ã£o de EspaÃ§os de MemÃ³ria.',2020\n",
      "Edmar Moraes GonÃ§alves,'L1: PatrimÃ´nio Documental: RepresentaÃ§Ã£o, Gerenciamento e PreservaÃ§Ã£o de EspaÃ§os de MemÃ³ria.',2020\n",
      "Eula Dantas Taveira Cabral,'L2: PrÃ¡ticas crÃ­ticas em acervos: difusÃ£o, acesso, uso e apropriaÃ§Ã£o do patrimÃ´nio documental material e imaterial.',2020\n",
      "Isabel Idelzuite Lustosa da Costa,'L2: PrÃ¡ticas crÃ­ticas em acervos: difusÃ£o, acesso, uso e apropriaÃ§Ã£o do patrimÃ´nio documental material e imaterial.',2020\n",
      "Maria Flora Sussekind,'L2: PrÃ¡ticas crÃ­ticas em acervos: difusÃ£o, acesso, uso e apropriaÃ§Ã£o do patrimÃ´nio documental material e imaterial.',2020\n",
      "JoÃ«lle Rachel Rouchou,'L2: PrÃ¡ticas crÃ­ticas em acervos: difusÃ£o, acesso, uso e apropriaÃ§Ã£o do patrimÃ´nio documental material e imaterial.',2020\n",
      "JosÃ© Almino de Alencar e Silva Neto,'L2: PrÃ¡ticas crÃ­ticas em acervos: difusÃ£o, acesso, uso e apropriaÃ§Ã£o do patrimÃ´nio documental material e imaterial.',2020\n",
      "Lia Calabre de Azevedo,'L2: PrÃ¡ticas crÃ­ticas em acervos: difusÃ£o, acesso, uso e apropriaÃ§Ã£o do patrimÃ´nio documental material e imaterial.',2020\n",
      "Lucia Maria Velloso de Oliveira,'L1: PatrimÃ´nio Documental: RepresentaÃ§Ã£o, Gerenciamento e PreservaÃ§Ã£o de EspaÃ§os de MemÃ³ria.',2020\n",
      "Maria Luisa Ramos de Oliveira Soares,'L1: PatrimÃ´nio Documental: RepresentaÃ§Ã£o, Gerenciamento e PreservaÃ§Ã£o de EspaÃ§os de MemÃ³ria.',2020\n",
      "Soraia Farias Reolon Pereira,'L2: PrÃ¡ticas crÃ­ticas em acervos: difusÃ£o, acesso, uso e apropriaÃ§Ã£o do patrimÃ´nio documental material e imaterial.',2020\n",
      "Ana LÃ­gia Medeiros,'L1: PatrimÃ´nio Documental: RepresentaÃ§Ã£o, Gerenciamento e PreservaÃ§Ã£o de EspaÃ§os de MemÃ³ria.',2021\n",
      "Ana Maria Pessoa dos Santos,'L2: PrÃ¡ticas crÃ­ticas em acervos: difusÃ£o, acesso, uso e apropriaÃ§Ã£o do patrimÃ´nio documental material e imaterial.',2021\n",
      "Antonio Herculano Lopes,'L2: PrÃ¡ticas crÃ­ticas em acervos: difusÃ£o, acesso, uso e apropriaÃ§Ã£o do patrimÃ´nio documental material e imaterial.',2021\n",
      "Aparecida Marina de Souza Rangel,'L1: PatrimÃ´nio Documental: RepresentaÃ§Ã£o, Gerenciamento e PreservaÃ§Ã£o de EspaÃ§os de MemÃ³ria.',2021\n",
      "Claudia Suely Rodrigues Carvalho,'L1: PatrimÃ´nio Documental: RepresentaÃ§Ã£o, Gerenciamento e PreservaÃ§Ã£o de EspaÃ§os de MemÃ³ria.',2021\n",
      "Edmar Moraes GonÃ§alves,'L1: PatrimÃ´nio Documental: RepresentaÃ§Ã£o, Gerenciamento e PreservaÃ§Ã£o de EspaÃ§os de MemÃ³ria.',2021\n",
      "Eula Dantas Taveira Cabral,'L2: PrÃ¡ticas crÃ­ticas em acervos: difusÃ£o, acesso, uso e apropriaÃ§Ã£o do patrimÃ´nio documental material e imaterial.',2021\n",
      "JoÃ«lle Rachel Rouchou,'L2: PrÃ¡ticas crÃ­ticas em acervos: difusÃ£o, acesso, uso e apropriaÃ§Ã£o do patrimÃ´nio documental material e imaterial.',2021\n",
      "JosÃ© Almino de Alencar e Silva Neto,'L2: PrÃ¡ticas crÃ­ticas em acervos: difusÃ£o, acesso, uso e apropriaÃ§Ã£o do patrimÃ´nio documental material e imaterial.',2021\n",
      "Lia Calabre de Azevedo,'L2: PrÃ¡ticas crÃ­ticas em acervos: difusÃ£o, acesso, uso e apropriaÃ§Ã£o do patrimÃ´nio documental material e imaterial.',2021\n",
      "Lucia Maria Velloso de Oliveira,'L1: PatrimÃ´nio Documental: RepresentaÃ§Ã£o, Gerenciamento e PreservaÃ§Ã£o de EspaÃ§os de MemÃ³ria.',2021\n",
      "Luis Fernando SayÃ£o,'L1: PatrimÃ´nio Documental: RepresentaÃ§Ã£o, Gerenciamento e PreservaÃ§Ã£o de EspaÃ§os de MemÃ³ria.',2021\n",
      "Margareth da Silva,'L1: PatrimÃ´nio Documental: RepresentaÃ§Ã£o, Gerenciamento e PreservaÃ§Ã£o de EspaÃ§os de MemÃ³ria.',2021\n",
      "Maria Luisa Ramos de Oliveira Soares,'L1: PatrimÃ´nio Documental: RepresentaÃ§Ã£o, Gerenciamento e PreservaÃ§Ã£o de EspaÃ§os de MemÃ³ria.',2021\n",
      "Soraia Farias Reolon Pereira,'L2: PrÃ¡ticas crÃ­ticas em acervos: difusÃ£o, acesso, uso e apropriaÃ§Ã£o do patrimÃ´nio documental material e imaterial.',2021\n",
      "\n"
     ]
    }
   ],
   "source": [
    "file = open('docentes20162021.csv', 'r')\n",
    "print(file.read())"
   ]
  },
  {
   "cell_type": "markdown",
   "metadata": {},
   "source": [
    "#### leitura usando with"
   ]
  },
  {
   "cell_type": "code",
   "execution_count": 54,
   "metadata": {
    "ExecuteTime": {
     "end_time": "2021-11-06T00:34:46.754320Z",
     "start_time": "2021-11-06T00:34:46.742236Z"
    }
   },
   "outputs": [
    {
     "name": "stdout",
     "output_type": "stream",
     "text": [
      "Docentes,Linha de Pesquisa,Ano\n",
      "Ana CÃ©lia Rodrigues,'L1: PatrimÃ´nio Documental: RepresentaÃ§Ã£o, Gerenciamento e PreservaÃ§Ã£o de EspaÃ§os de MemÃ³ria.',2016\n",
      "Ana LÃ­gia Medeiros,'L1: PatrimÃ´nio Documental: RepresentaÃ§Ã£o, Gerenciamento e PreservaÃ§Ã£o de EspaÃ§os de MemÃ³ria.',2016\n",
      "Ana Maria Pessoa dos Santos,'L2: PrÃ¡ticas crÃ­ticas em acervos: difusÃ£o, acesso, uso e apropriaÃ§Ã£o do patrimÃ´nio documental material e imaterial.',2016\n",
      "Antonio Herculano Lopes,'L2: PrÃ¡ticas crÃ­ticas em acervos: difusÃ£o, acesso, uso e apropriaÃ§Ã£o do patrimÃ´nio documental material e imaterial.',2016\n",
      "Aparecida Marina de Souza Rangel,'L1: PatrimÃ´nio Documental: RepresentaÃ§Ã£o, Gerenciamento e PreservaÃ§Ã£o de EspaÃ§os de MemÃ³ria.',2016\n",
      "Charles Matheus Pontes Gomes,'L2: PrÃ¡ticas crÃ­ticas em acervos: difusÃ£o, acesso, uso e apropriaÃ§Ã£o do patrimÃ´nio documental material e imaterial.',2016\n",
      "Christian Edward Cyril Lynch,'L2: PrÃ¡ticas crÃ­ticas em acervos: difusÃ£o, acesso, uso e apropriaÃ§Ã£o do patrimÃ´nio documental material e imaterial.',2016\n",
      "Claudia Suely Rodrigues Carvalho,'L1: PatrimÃ´nio Documental: RepresentaÃ§Ã£o, Gerenciamento e PreservaÃ§Ã£o de EspaÃ§os de MemÃ³ria.',2016\n",
      "Edmar Moraes GonÃ§alves,'L1: PatrimÃ´nio Documental: RepresentaÃ§Ã£o, Gerenciamento e PreservaÃ§Ã£o de EspaÃ§os de MemÃ³ria.',2016\n",
      "Eduardo Silva,'L1: PatrimÃ´nio Documental: RepresentaÃ§Ã£o, Gerenciamento e PreservaÃ§Ã£o de EspaÃ§os de MemÃ³ria.',2016\n",
      "Eliane Vasconcellos,'L1: PatrimÃ´nio Documental: RepresentaÃ§Ã£o, Gerenciamento e PreservaÃ§Ã£o de EspaÃ§os de MemÃ³ria.',2016\n",
      "Isabel Idelzuite Lustosa da Costa,'L2: PrÃ¡ticas crÃ­ticas em acervos: difusÃ£o, acesso, uso e apropriaÃ§Ã£o do patrimÃ´nio documental material e imaterial.',2016\n",
      "Maria Flora Sussekind,'L2: PrÃ¡ticas crÃ­ticas em acervos: difusÃ£o, acesso, uso e apropriaÃ§Ã£o do patrimÃ´nio documental material e imaterial.',2016\n",
      "JoÃ«lle Rachel Rouchou,'L2: PrÃ¡ticas crÃ­ticas em acervos: difusÃ£o, acesso, uso e apropriaÃ§Ã£o do patrimÃ´nio documental material e imaterial.',2016\n",
      "JosÃ© Almino de Alencar e Silva Neto,'L2: PrÃ¡ticas crÃ­ticas em acervos: difusÃ£o, acesso, uso e apropriaÃ§Ã£o do patrimÃ´nio documental material e imaterial.',2016\n",
      "Laura do Carmo,'L2: PrÃ¡ticas crÃ­ticas em acervos: difusÃ£o, acesso, uso e apropriaÃ§Ã£o do patrimÃ´nio documental material e imaterial.',2016\n",
      "Lia Calabre de Azevedo,'L2: PrÃ¡ticas crÃ­ticas em acervos: difusÃ£o, acesso, uso e apropriaÃ§Ã£o do patrimÃ´nio documental material e imaterial.',2016\n",
      "Lucia Maria Velloso de Oliveira,'L1: PatrimÃ´nio Documental: RepresentaÃ§Ã£o, Gerenciamento e PreservaÃ§Ã£o de EspaÃ§os de MemÃ³ria.',2016\n",
      "Luis Fernando SayÃ£o,'L1: PatrimÃ´nio Documental: RepresentaÃ§Ã£o, Gerenciamento e PreservaÃ§Ã£o de EspaÃ§os de MemÃ³ria.',2016\n",
      "Maria Luisa Ramos de Oliveira Soares,'L1: PatrimÃ´nio Documental: RepresentaÃ§Ã£o, Gerenciamento e PreservaÃ§Ã£o de EspaÃ§os de MemÃ³ria.',2016\n",
      "Marta de Senna,'L2: PrÃ¡ticas crÃ­ticas em acervos: difusÃ£o, acesso, uso e apropriaÃ§Ã£o do patrimÃ´nio documental material e imaterial.',2016\n",
      "Mauricio Siqueira,'L2: PrÃ¡ticas crÃ­ticas em acervos: difusÃ£o, acesso, uso e apropriaÃ§Ã£o do patrimÃ´nio documental material e imaterial.',2016\n",
      "MÃ´nica Pimenta Velloso ,'L2: PrÃ¡ticas crÃ­ticas em acervos: difusÃ£o, acesso, uso e apropriaÃ§Ã£o do patrimÃ´nio documental material e imaterial.',2016\n",
      "Soraia Farias Reolon Pereira,'L2: PrÃ¡ticas crÃ­ticas em acervos: difusÃ£o, acesso, uso e apropriaÃ§Ã£o do patrimÃ´nio documental material e imaterial.',2016\n",
      "Ana CÃ©lia Rodrigues,'L1: PatrimÃ´nio Documental: RepresentaÃ§Ã£o, Gerenciamento e PreservaÃ§Ã£o de EspaÃ§os de MemÃ³ria.',2017\n",
      "Ana Maria Pessoa dos Santos,'L1: PatrimÃ´nio Documental: RepresentaÃ§Ã£o, Gerenciamento e PreservaÃ§Ã£o de EspaÃ§os de MemÃ³ria.',2017\n",
      "Antonio Herculano Lopes,'L2: PrÃ¡ticas crÃ­ticas em acervos: difusÃ£o, acesso, uso e apropriaÃ§Ã£o do patrimÃ´nio documental material e imaterial.',2017\n",
      "Aparecida Marina de Souza Rangel,'L1: PatrimÃ´nio Documental: RepresentaÃ§Ã£o, Gerenciamento e PreservaÃ§Ã£o de EspaÃ§os de MemÃ³ria.',2017\n",
      "Charles Matheus Pontes Gomes,'L2: PrÃ¡ticas crÃ­ticas em acervos: difusÃ£o, acesso, uso e apropriaÃ§Ã£o do patrimÃ´nio documental material e imaterial.',2017\n",
      "Claudia Suely Rodrigues Carvalho,'L1: PatrimÃ´nio Documental: RepresentaÃ§Ã£o, Gerenciamento e PreservaÃ§Ã£o de EspaÃ§os de MemÃ³ria.',2017\n",
      "Edmar Moraes GonÃ§alves,'L1: PatrimÃ´nio Documental: RepresentaÃ§Ã£o, Gerenciamento e PreservaÃ§Ã£o de EspaÃ§os de MemÃ³ria.',2017\n",
      "Eliane Vasconcellos,'L1: PatrimÃ´nio Documental: RepresentaÃ§Ã£o, Gerenciamento e PreservaÃ§Ã£o de EspaÃ§os de MemÃ³ria.',2017\n",
      "Maria Flora Sussekind,'L2: PrÃ¡ticas crÃ­ticas em acervos: difusÃ£o, acesso, uso e apropriaÃ§Ã£o do patrimÃ´nio documental material e imaterial.',2017\n",
      "JoÃ«lle Rachel Rouchou,'L2: PrÃ¡ticas crÃ­ticas em acervos: difusÃ£o, acesso, uso e apropriaÃ§Ã£o do patrimÃ´nio documental material e imaterial.',2017\n",
      "Laura do Carmo,'L2: PrÃ¡ticas crÃ­ticas em acervos: difusÃ£o, acesso, uso e apropriaÃ§Ã£o do patrimÃ´nio documental material e imaterial.',2017\n",
      "Lia Calabre de Azevedo,'L2: PrÃ¡ticas crÃ­ticas em acervos: difusÃ£o, acesso, uso e apropriaÃ§Ã£o do patrimÃ´nio documental material e imaterial.',2017\n",
      "Lucia Maria Velloso de Oliveira,'L1: PatrimÃ´nio Documental: RepresentaÃ§Ã£o, Gerenciamento e PreservaÃ§Ã£o de EspaÃ§os de MemÃ³ria.',2017\n",
      "Luis Fernando SayÃ£o,'L1: PatrimÃ´nio Documental: RepresentaÃ§Ã£o, Gerenciamento e PreservaÃ§Ã£o de EspaÃ§os de MemÃ³ria.',2017\n",
      "Margareth da Silva,'L1: PatrimÃ´nio Documental: RepresentaÃ§Ã£o, Gerenciamento e PreservaÃ§Ã£o de EspaÃ§os de MemÃ³ria.',2017\n",
      "Marta de Senna,'L2: PrÃ¡ticas crÃ­ticas em acervos: difusÃ£o, acesso, uso e apropriaÃ§Ã£o do patrimÃ´nio documental material e imaterial.',2017\n",
      "Mauricio Siqueira,'L2: PrÃ¡ticas crÃ­ticas em acervos: difusÃ£o, acesso, uso e apropriaÃ§Ã£o do patrimÃ´nio documental material e imaterial.',2017\n",
      "Soraia Farias Reolon Pereira,'L2: PrÃ¡ticas crÃ­ticas em acervos: difusÃ£o, acesso, uso e apropriaÃ§Ã£o do patrimÃ´nio documental material e imaterial.',2017\n",
      "Ana CÃ©lia Rodrigues,'L1: PatrimÃ´nio Documental: RepresentaÃ§Ã£o, Gerenciamento e PreservaÃ§Ã£o de EspaÃ§os de MemÃ³ria.',2018\n",
      "Ana LÃ­gia Medeiros,'L1: PatrimÃ´nio Documental: RepresentaÃ§Ã£o, Gerenciamento e PreservaÃ§Ã£o de EspaÃ§os de MemÃ³ria.',2018\n",
      "Ana Maria Pessoa dos Santos,'L2: PrÃ¡ticas crÃ­ticas em acervos: difusÃ£o, acesso, uso e apropriaÃ§Ã£o do patrimÃ´nio documental material e imaterial.',2018\n",
      "Antonio Herculano Lopes,'L2: PrÃ¡ticas crÃ­ticas em acervos: difusÃ£o, acesso, uso e apropriaÃ§Ã£o do patrimÃ´nio documental material e imaterial.',2018\n",
      "Aparecida Marina de Souza Rangel,'L1: PatrimÃ´nio Documental: RepresentaÃ§Ã£o, Gerenciamento e PreservaÃ§Ã£o de EspaÃ§os de MemÃ³ria.',2018\n",
      "Charles Matheus Pontes Gomes,'L2: PrÃ¡ticas crÃ­ticas em acervos: difusÃ£o, acesso, uso e apropriaÃ§Ã£o do patrimÃ´nio documental material e imaterial.',2018\n",
      "Christian Edward Cyril Lynch,'L2: PrÃ¡ticas crÃ­ticas em acervos: difusÃ£o, acesso, uso e apropriaÃ§Ã£o do patrimÃ´nio documental material e imaterial.',2018\n",
      "Claudia Suely Rodrigues Carvalho,'L1: PatrimÃ´nio Documental: RepresentaÃ§Ã£o, Gerenciamento e PreservaÃ§Ã£o de EspaÃ§os de MemÃ³ria.',2018\n",
      "Edmar Moraes GonÃ§alves,'L1: PatrimÃ´nio Documental: RepresentaÃ§Ã£o, Gerenciamento e PreservaÃ§Ã£o de EspaÃ§os de MemÃ³ria.',2018\n",
      "Eduardo Silva,'L1: PatrimÃ´nio Documental: RepresentaÃ§Ã£o, Gerenciamento e PreservaÃ§Ã£o de EspaÃ§os de MemÃ³ria.',2018\n",
      "Eula Dantas Taveira Cabral,'L2: PrÃ¡ticas crÃ­ticas em acervos: difusÃ£o, acesso, uso e apropriaÃ§Ã£o do patrimÃ´nio documental material e imaterial.',2018\n",
      "Maria Flora Sussekind,'L2: PrÃ¡ticas crÃ­ticas em acervos: difusÃ£o, acesso, uso e apropriaÃ§Ã£o do patrimÃ´nio documental material e imaterial.',2018\n",
      "JoÃ«lle Rachel Rouchou,'L2: PrÃ¡ticas crÃ­ticas em acervos: difusÃ£o, acesso, uso e apropriaÃ§Ã£o do patrimÃ´nio documental material e imaterial.',2018\n",
      "JosÃ© Almino de Alencar e Silva Neto,'L2: PrÃ¡ticas crÃ­ticas em acervos: difusÃ£o, acesso, uso e apropriaÃ§Ã£o do patrimÃ´nio documental material e imaterial.',2018\n",
      "Laura do Carmo,'L2: PrÃ¡ticas crÃ­ticas em acervos: difusÃ£o, acesso, uso e apropriaÃ§Ã£o do patrimÃ´nio documental material e imaterial.',2018\n",
      "Lia Calabre de Azevedo,'L2: PrÃ¡ticas crÃ­ticas em acervos: difusÃ£o, acesso, uso e apropriaÃ§Ã£o do patrimÃ´nio documental material e imaterial.',2018\n",
      "Lucia Maria Velloso de Oliveira,'L1: PatrimÃ´nio Documental: RepresentaÃ§Ã£o, Gerenciamento e PreservaÃ§Ã£o de EspaÃ§os de MemÃ³ria.',2018\n",
      "Luis Fernando SayÃ£o,'L1: PatrimÃ´nio Documental: RepresentaÃ§Ã£o, Gerenciamento e PreservaÃ§Ã£o de EspaÃ§os de MemÃ³ria.',2018\n",
      "Maria Luisa Ramos de Oliveira Soares,'L1: PatrimÃ´nio Documental: RepresentaÃ§Ã£o, Gerenciamento e PreservaÃ§Ã£o de EspaÃ§os de MemÃ³ria.',2018\n",
      "Margareth da Silva,'L1: PatrimÃ´nio Documental: RepresentaÃ§Ã£o, Gerenciamento e PreservaÃ§Ã£o de EspaÃ§os de MemÃ³ria.',2018\n",
      "Soraia Farias Reolon Pereira,'L2: PrÃ¡ticas crÃ­ticas em acervos: difusÃ£o, acesso, uso e apropriaÃ§Ã£o do patrimÃ´nio documental material e imaterial.',2018\n",
      "Ana Maria Pessoa dos Santos,'L2: PrÃ¡ticas crÃ­ticas em acervos: difusÃ£o, acesso, uso e apropriaÃ§Ã£o do patrimÃ´nio documental material e imaterial.',2019\n",
      "Antonio Herculano Lopes,'L2: PrÃ¡ticas crÃ­ticas em acervos: difusÃ£o, acesso, uso e apropriaÃ§Ã£o do patrimÃ´nio documental material e imaterial.',2019\n",
      "Aparecida Marina de Souza Rangel,'L1: PatrimÃ´nio Documental: RepresentaÃ§Ã£o, Gerenciamento e PreservaÃ§Ã£o de EspaÃ§os de MemÃ³ria.',2019\n",
      "Charles Matheus Pontes Gomes,'L2: PrÃ¡ticas crÃ­ticas em acervos: difusÃ£o, acesso, uso e apropriaÃ§Ã£o do patrimÃ´nio documental material e imaterial.',2019\n",
      "Christian Edward Cyril Lynch,'L2: PrÃ¡ticas crÃ­ticas em acervos: difusÃ£o, acesso, uso e apropriaÃ§Ã£o do patrimÃ´nio documental material e imaterial.',2019\n",
      "Claudia Suely Rodrigues Carvalho,'L1: PatrimÃ´nio Documental: RepresentaÃ§Ã£o, Gerenciamento e PreservaÃ§Ã£o de EspaÃ§os de MemÃ³ria.',2019\n",
      "Edmar Moraes GonÃ§alves,'L1: PatrimÃ´nio Documental: RepresentaÃ§Ã£o, Gerenciamento e PreservaÃ§Ã£o de EspaÃ§os de MemÃ³ria.',2019\n",
      "Eliane Vasconcellos,'L1: PatrimÃ´nio Documental: RepresentaÃ§Ã£o, Gerenciamento e PreservaÃ§Ã£o de EspaÃ§os de MemÃ³ria.',2019\n",
      "Eula Dantas Taveira Cabral,'L2: PrÃ¡ticas crÃ­ticas em acervos: difusÃ£o, acesso, uso e apropriaÃ§Ã£o do patrimÃ´nio documental material e imaterial.',2019\n",
      "FÃ¡bio JosÃ© Kerche Nunes,'L2: PrÃ¡ticas crÃ­ticas em acervos: difusÃ£o, acesso, uso e apropriaÃ§Ã£o do patrimÃ´nio documental material e imaterial.',2019\n",
      "Maria Flora Sussekind,'L2: PrÃ¡ticas crÃ­ticas em acervos: difusÃ£o, acesso, uso e apropriaÃ§Ã£o do patrimÃ´nio documental material e imaterial.',2019\n",
      "JoÃ«lle Rachel Rouchou,'L2: PrÃ¡ticas crÃ­ticas em acervos: difusÃ£o, acesso, uso e apropriaÃ§Ã£o do patrimÃ´nio documental material e imaterial.',2019\n",
      "JosÃ© Almino de Alencar e Silva Neto,'L2: PrÃ¡ticas crÃ­ticas em acervos: difusÃ£o, acesso, uso e apropriaÃ§Ã£o do patrimÃ´nio documental material e imaterial.',2019\n",
      "JosÃ© Maria Jardim,'L1: PatrimÃ´nio Documental: RepresentaÃ§Ã£o, Gerenciamento e PreservaÃ§Ã£o de EspaÃ§os de MemÃ³ria.',2019\n",
      "Laura do Carmo,'L2: PrÃ¡ticas crÃ­ticas em acervos: difusÃ£o, acesso, uso e apropriaÃ§Ã£o do patrimÃ´nio documental material e imaterial.',2019\n",
      "Lia Calabre de Azevedo,'L2: PrÃ¡ticas crÃ­ticas em acervos: difusÃ£o, acesso, uso e apropriaÃ§Ã£o do patrimÃ´nio documental material e imaterial.',2019\n",
      "Luis Fernando SayÃ£o,'L1: PatrimÃ´nio Documental: RepresentaÃ§Ã£o, Gerenciamento e PreservaÃ§Ã£o de EspaÃ§os de MemÃ³ria.',2019\n",
      "Maria Luisa Ramos de Oliveira Soares,'L1: PatrimÃ´nio Documental: RepresentaÃ§Ã£o, Gerenciamento e PreservaÃ§Ã£o de EspaÃ§os de MemÃ³ria.',2019\n",
      "Margareth da Silva,'L1: PatrimÃ´nio Documental: RepresentaÃ§Ã£o, Gerenciamento e PreservaÃ§Ã£o de EspaÃ§os de MemÃ³ria.',2019\n",
      "Soraia Farias Reolon Pereira,'L2: PrÃ¡ticas crÃ­ticas em acervos: difusÃ£o, acesso, uso e apropriaÃ§Ã£o do patrimÃ´nio documental material e imaterial.',2019\n",
      "Ana LÃ­gia Medeiros,'L1: PatrimÃ´nio Documental: RepresentaÃ§Ã£o, Gerenciamento e PreservaÃ§Ã£o de EspaÃ§os de MemÃ³ria.',2020\n",
      "Ana Maria Pessoa dos Santos,'L2: PrÃ¡ticas crÃ­ticas em acervos: difusÃ£o, acesso, uso e apropriaÃ§Ã£o do patrimÃ´nio documental material e imaterial.',2020\n",
      "Antonio Herculano Lopes,'L2: PrÃ¡ticas crÃ­ticas em acervos: difusÃ£o, acesso, uso e apropriaÃ§Ã£o do patrimÃ´nio documental material e imaterial.',2020\n",
      "Aparecida Marina de Souza Rangel,'L1: PatrimÃ´nio Documental: RepresentaÃ§Ã£o, Gerenciamento e PreservaÃ§Ã£o de EspaÃ§os de MemÃ³ria.',2020\n",
      "Christian Edward Cyril Lynch,'L2: PrÃ¡ticas crÃ­ticas em acervos: difusÃ£o, acesso, uso e apropriaÃ§Ã£o do patrimÃ´nio documental material e imaterial.',2020\n",
      "Claudia Suely Rodrigues Carvalho,'L1: PatrimÃ´nio Documental: RepresentaÃ§Ã£o, Gerenciamento e PreservaÃ§Ã£o de EspaÃ§os de MemÃ³ria.',2020\n",
      "Edmar Moraes GonÃ§alves,'L1: PatrimÃ´nio Documental: RepresentaÃ§Ã£o, Gerenciamento e PreservaÃ§Ã£o de EspaÃ§os de MemÃ³ria.',2020\n",
      "Eula Dantas Taveira Cabral,'L2: PrÃ¡ticas crÃ­ticas em acervos: difusÃ£o, acesso, uso e apropriaÃ§Ã£o do patrimÃ´nio documental material e imaterial.',2020\n",
      "Isabel Idelzuite Lustosa da Costa,'L2: PrÃ¡ticas crÃ­ticas em acervos: difusÃ£o, acesso, uso e apropriaÃ§Ã£o do patrimÃ´nio documental material e imaterial.',2020\n",
      "Maria Flora Sussekind,'L2: PrÃ¡ticas crÃ­ticas em acervos: difusÃ£o, acesso, uso e apropriaÃ§Ã£o do patrimÃ´nio documental material e imaterial.',2020\n",
      "JoÃ«lle Rachel Rouchou,'L2: PrÃ¡ticas crÃ­ticas em acervos: difusÃ£o, acesso, uso e apropriaÃ§Ã£o do patrimÃ´nio documental material e imaterial.',2020\n",
      "JosÃ© Almino de Alencar e Silva Neto,'L2: PrÃ¡ticas crÃ­ticas em acervos: difusÃ£o, acesso, uso e apropriaÃ§Ã£o do patrimÃ´nio documental material e imaterial.',2020\n",
      "Lia Calabre de Azevedo,'L2: PrÃ¡ticas crÃ­ticas em acervos: difusÃ£o, acesso, uso e apropriaÃ§Ã£o do patrimÃ´nio documental material e imaterial.',2020\n",
      "Lucia Maria Velloso de Oliveira,'L1: PatrimÃ´nio Documental: RepresentaÃ§Ã£o, Gerenciamento e PreservaÃ§Ã£o de EspaÃ§os de MemÃ³ria.',2020\n",
      "Maria Luisa Ramos de Oliveira Soares,'L1: PatrimÃ´nio Documental: RepresentaÃ§Ã£o, Gerenciamento e PreservaÃ§Ã£o de EspaÃ§os de MemÃ³ria.',2020\n",
      "Soraia Farias Reolon Pereira,'L2: PrÃ¡ticas crÃ­ticas em acervos: difusÃ£o, acesso, uso e apropriaÃ§Ã£o do patrimÃ´nio documental material e imaterial.',2020\n",
      "Ana LÃ­gia Medeiros,'L1: PatrimÃ´nio Documental: RepresentaÃ§Ã£o, Gerenciamento e PreservaÃ§Ã£o de EspaÃ§os de MemÃ³ria.',2021\n",
      "Ana Maria Pessoa dos Santos,'L2: PrÃ¡ticas crÃ­ticas em acervos: difusÃ£o, acesso, uso e apropriaÃ§Ã£o do patrimÃ´nio documental material e imaterial.',2021\n",
      "Antonio Herculano Lopes,'L2: PrÃ¡ticas crÃ­ticas em acervos: difusÃ£o, acesso, uso e apropriaÃ§Ã£o do patrimÃ´nio documental material e imaterial.',2021\n",
      "Aparecida Marina de Souza Rangel,'L1: PatrimÃ´nio Documental: RepresentaÃ§Ã£o, Gerenciamento e PreservaÃ§Ã£o de EspaÃ§os de MemÃ³ria.',2021\n",
      "Claudia Suely Rodrigues Carvalho,'L1: PatrimÃ´nio Documental: RepresentaÃ§Ã£o, Gerenciamento e PreservaÃ§Ã£o de EspaÃ§os de MemÃ³ria.',2021\n",
      "Edmar Moraes GonÃ§alves,'L1: PatrimÃ´nio Documental: RepresentaÃ§Ã£o, Gerenciamento e PreservaÃ§Ã£o de EspaÃ§os de MemÃ³ria.',2021\n",
      "Eula Dantas Taveira Cabral,'L2: PrÃ¡ticas crÃ­ticas em acervos: difusÃ£o, acesso, uso e apropriaÃ§Ã£o do patrimÃ´nio documental material e imaterial.',2021\n",
      "JoÃ«lle Rachel Rouchou,'L2: PrÃ¡ticas crÃ­ticas em acervos: difusÃ£o, acesso, uso e apropriaÃ§Ã£o do patrimÃ´nio documental material e imaterial.',2021\n",
      "JosÃ© Almino de Alencar e Silva Neto,'L2: PrÃ¡ticas crÃ­ticas em acervos: difusÃ£o, acesso, uso e apropriaÃ§Ã£o do patrimÃ´nio documental material e imaterial.',2021\n",
      "Lia Calabre de Azevedo,'L2: PrÃ¡ticas crÃ­ticas em acervos: difusÃ£o, acesso, uso e apropriaÃ§Ã£o do patrimÃ´nio documental material e imaterial.',2021\n",
      "Lucia Maria Velloso de Oliveira,'L1: PatrimÃ´nio Documental: RepresentaÃ§Ã£o, Gerenciamento e PreservaÃ§Ã£o de EspaÃ§os de MemÃ³ria.',2021\n",
      "Luis Fernando SayÃ£o,'L1: PatrimÃ´nio Documental: RepresentaÃ§Ã£o, Gerenciamento e PreservaÃ§Ã£o de EspaÃ§os de MemÃ³ria.',2021\n",
      "Margareth da Silva,'L1: PatrimÃ´nio Documental: RepresentaÃ§Ã£o, Gerenciamento e PreservaÃ§Ã£o de EspaÃ§os de MemÃ³ria.',2021\n",
      "Maria Luisa Ramos de Oliveira Soares,'L1: PatrimÃ´nio Documental: RepresentaÃ§Ã£o, Gerenciamento e PreservaÃ§Ã£o de EspaÃ§os de MemÃ³ria.',2021\n",
      "Soraia Farias Reolon Pereira,'L2: PrÃ¡ticas crÃ­ticas em acervos: difusÃ£o, acesso, uso e apropriaÃ§Ã£o do patrimÃ´nio documental material e imaterial.',2021\n",
      "\n"
     ]
    }
   ],
   "source": [
    "with open('docentes20162021.csv', 'r') as file:\n",
    "    print(file.read())"
   ]
  },
  {
   "cell_type": "code",
   "execution_count": null,
   "metadata": {},
   "outputs": [],
   "source": []
  },
  {
   "cell_type": "markdown",
   "metadata": {},
   "source": [
    "#### 8.7.2 Escrevendo em Arquivos"
   ]
  },
  {
   "cell_type": "code",
   "execution_count": 28,
   "metadata": {
    "ExecuteTime": {
     "end_time": "2021-11-06T00:24:34.406970Z",
     "start_time": "2021-11-06T00:24:34.401600Z"
    }
   },
   "outputs": [],
   "source": [
    "file2 = open('novo_arquivo.txt', 'w')"
   ]
  },
  {
   "cell_type": "code",
   "execution_count": 29,
   "metadata": {
    "ExecuteTime": {
     "end_time": "2021-11-06T00:24:34.701134Z",
     "start_time": "2021-11-06T00:24:34.692582Z"
    }
   },
   "outputs": [
    {
     "data": {
      "text/plain": [
       "44"
      ]
     },
     "execution_count": 29,
     "metadata": {},
     "output_type": "execute_result"
    }
   ],
   "source": [
    "file2.write('Este é minha primeira linha do arquivo file2')"
   ]
  },
  {
   "cell_type": "code",
   "execution_count": 30,
   "metadata": {
    "ExecuteTime": {
     "end_time": "2021-11-06T00:24:35.120582Z",
     "start_time": "2021-11-06T00:24:35.110590Z"
    }
   },
   "outputs": [
    {
     "data": {
      "text/plain": [
       "39"
      ]
     },
     "execution_count": 30,
     "metadata": {},
     "output_type": "execute_result"
    }
   ],
   "source": [
    "file2.write('Esta é a segunda linha do arquivo file2')"
   ]
  },
  {
   "cell_type": "code",
   "execution_count": 31,
   "metadata": {
    "ExecuteTime": {
     "end_time": "2021-11-06T00:24:35.664596Z",
     "start_time": "2021-11-06T00:24:35.648320Z"
    }
   },
   "outputs": [],
   "source": [
    "file2.close()"
   ]
  },
  {
   "cell_type": "code",
   "execution_count": 32,
   "metadata": {
    "ExecuteTime": {
     "end_time": "2021-11-06T00:24:36.035272Z",
     "start_time": "2021-11-06T00:24:36.012099Z"
    }
   },
   "outputs": [
    {
     "ename": "ValueError",
     "evalue": "I/O operation on closed file.",
     "output_type": "error",
     "traceback": [
      "\u001b[1;31m---------------------------------------------------------------------------\u001b[0m",
      "\u001b[1;31mValueError\u001b[0m                                Traceback (most recent call last)",
      "\u001b[1;32m<ipython-input-32-f22ea6c62664>\u001b[0m in \u001b[0;36m<module>\u001b[1;34m\u001b[0m\n\u001b[0;32m      1\u001b[0m \u001b[1;31m# arquivo está fechado (error)\u001b[0m\u001b[1;33m\u001b[0m\u001b[1;33m\u001b[0m\u001b[1;33m\u001b[0m\u001b[0m\n\u001b[1;32m----> 2\u001b[1;33m \u001b[0mfile2\u001b[0m\u001b[1;33m.\u001b[0m\u001b[0mread\u001b[0m\u001b[1;33m(\u001b[0m\u001b[1;33m)\u001b[0m\u001b[1;33m\u001b[0m\u001b[1;33m\u001b[0m\u001b[0m\n\u001b[0m",
      "\u001b[1;31mValueError\u001b[0m: I/O operation on closed file."
     ]
    }
   ],
   "source": [
    "# arquivo está fechado (error)\n",
    "file2.read()"
   ]
  },
  {
   "cell_type": "code",
   "execution_count": 33,
   "metadata": {
    "ExecuteTime": {
     "end_time": "2021-11-06T00:24:36.517518Z",
     "start_time": "2021-11-06T00:24:36.508387Z"
    }
   },
   "outputs": [],
   "source": [
    "file2 = open('novo_arquivo.txt', 'r')"
   ]
  },
  {
   "cell_type": "code",
   "execution_count": 34,
   "metadata": {
    "ExecuteTime": {
     "end_time": "2021-11-06T00:24:37.074126Z",
     "start_time": "2021-11-06T00:24:37.068571Z"
    }
   },
   "outputs": [
    {
     "data": {
      "text/plain": [
       "['Este é minha primeira linha do arquivo file2Esta é a segunda linha do arquivo file2']"
      ]
     },
     "execution_count": 34,
     "metadata": {},
     "output_type": "execute_result"
    }
   ],
   "source": [
    "file2.readlines()"
   ]
  },
  {
   "cell_type": "markdown",
   "metadata": {},
   "source": [
    "#### Escrevendo no final do arquivo"
   ]
  },
  {
   "cell_type": "code",
   "execution_count": 38,
   "metadata": {
    "ExecuteTime": {
     "end_time": "2021-11-06T00:26:21.316576Z",
     "start_time": "2021-11-06T00:26:21.301555Z"
    }
   },
   "outputs": [],
   "source": [
    "file3 = open('novo_arquivo.txt', 'a')"
   ]
  },
  {
   "cell_type": "code",
   "execution_count": 39,
   "metadata": {
    "ExecuteTime": {
     "end_time": "2021-11-06T00:26:21.724646Z",
     "start_time": "2021-11-06T00:26:21.718649Z"
    }
   },
   "outputs": [
    {
     "data": {
      "text/plain": [
       "35"
      ]
     },
     "execution_count": 39,
     "metadata": {},
     "output_type": "execute_result"
    }
   ],
   "source": [
    "file3.write('Vamos escrever no final do arquivo\\n')"
   ]
  },
  {
   "cell_type": "code",
   "execution_count": 40,
   "metadata": {
    "ExecuteTime": {
     "end_time": "2021-11-06T00:26:22.306839Z",
     "start_time": "2021-11-06T00:26:22.293823Z"
    }
   },
   "outputs": [],
   "source": [
    "file3.close()"
   ]
  },
  {
   "cell_type": "markdown",
   "metadata": {},
   "source": [
    "#### Escrevendo lista de dados em arquivos"
   ]
  },
  {
   "cell_type": "code",
   "execution_count": 49,
   "metadata": {
    "ExecuteTime": {
     "end_time": "2021-11-06T00:33:07.734653Z",
     "start_time": "2021-11-06T00:33:07.723544Z"
    }
   },
   "outputs": [],
   "source": [
    "lista = ['primeira linha', 'segunda linha', 'terceira linha']"
   ]
  },
  {
   "cell_type": "code",
   "execution_count": 50,
   "metadata": {
    "ExecuteTime": {
     "end_time": "2021-11-06T00:33:08.357427Z",
     "start_time": "2021-11-06T00:33:08.345314Z"
    }
   },
   "outputs": [],
   "source": [
    "file = open('novo_arquivo.txt', 'w')"
   ]
  },
  {
   "cell_type": "code",
   "execution_count": 51,
   "metadata": {
    "ExecuteTime": {
     "end_time": "2021-11-06T00:33:08.807570Z",
     "start_time": "2021-11-06T00:33:08.802580Z"
    }
   },
   "outputs": [],
   "source": [
    "file.writelines(lista)\n",
    "file.close()"
   ]
  },
  {
   "cell_type": "code",
   "execution_count": 52,
   "metadata": {
    "ExecuteTime": {
     "end_time": "2021-11-06T00:33:09.400642Z",
     "start_time": "2021-11-06T00:33:09.379706Z"
    }
   },
   "outputs": [],
   "source": [
    "file = open('novo_arquivo.txt', 'r')"
   ]
  },
  {
   "cell_type": "code",
   "execution_count": 53,
   "metadata": {
    "ExecuteTime": {
     "end_time": "2021-11-06T00:33:10.025839Z",
     "start_time": "2021-11-06T00:33:10.011371Z"
    }
   },
   "outputs": [
    {
     "data": {
      "text/plain": [
       "['primeira linhasegunda linhaterceira linha']"
      ]
     },
     "execution_count": 53,
     "metadata": {},
     "output_type": "execute_result"
    }
   ],
   "source": [
    "file.readlines()"
   ]
  },
  {
   "cell_type": "code",
   "execution_count": null,
   "metadata": {},
   "outputs": [],
   "source": []
  }
 ],
 "metadata": {
  "kernelspec": {
   "display_name": "Python 3",
   "language": "python",
   "name": "python3"
  },
  "language_info": {
   "codemirror_mode": {
    "name": "ipython",
    "version": 3
   },
   "file_extension": ".py",
   "mimetype": "text/x-python",
   "name": "python",
   "nbconvert_exporter": "python",
   "pygments_lexer": "ipython3",
   "version": "3.8.11"
  }
 },
 "nbformat": 4,
 "nbformat_minor": 1
}
