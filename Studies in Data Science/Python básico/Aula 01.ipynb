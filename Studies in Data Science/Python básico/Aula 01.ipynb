{
 "cells": [
  {
   "cell_type": "code",
   "execution_count": 1,
   "id": "99a5746f",
   "metadata": {},
   "outputs": [],
   "source": [
    "a = 10"
   ]
  },
  {
   "cell_type": "code",
   "execution_count": 2,
   "id": "9b3a5239",
   "metadata": {},
   "outputs": [
    {
     "data": {
      "text/plain": [
       "10"
      ]
     },
     "execution_count": 2,
     "metadata": {},
     "output_type": "execute_result"
    }
   ],
   "source": [
    "a"
   ]
  },
  {
   "cell_type": "code",
   "execution_count": 4,
   "id": "27f15fa9",
   "metadata": {},
   "outputs": [
    {
     "data": {
      "text/plain": [
       "'hello world'"
      ]
     },
     "execution_count": 4,
     "metadata": {},
     "output_type": "execute_result"
    }
   ],
   "source": [
    "teste = 'hello world'\n",
    "teste"
   ]
  },
  {
   "cell_type": "code",
   "execution_count": 6,
   "id": "b5622dc3",
   "metadata": {},
   "outputs": [
    {
     "ename": "NameError",
     "evalue": "name 'nome' is not defined",
     "output_type": "error",
     "traceback": [
      "\u001b[1;31m---------------------------------------------------------------------------\u001b[0m",
      "\u001b[1;31mNameError\u001b[0m                                 Traceback (most recent call last)",
      "\u001b[1;32mC:\\Users\\SALADE~1\\AppData\\Local\\Temp/ipykernel_4748/1062405136.py\u001b[0m in \u001b[0;36m<module>\u001b[1;34m\u001b[0m\n\u001b[1;32m----> 1\u001b[1;33m \u001b[0minput\u001b[0m \u001b[1;33m=\u001b[0m \u001b[0mnome\u001b[0m\u001b[1;33m\u001b[0m\u001b[1;33m\u001b[0m\u001b[0m\n\u001b[0m",
      "\u001b[1;31mNameError\u001b[0m: name 'nome' is not defined"
     ]
    }
   ],
   "source": [
    "input = nome"
   ]
  },
  {
   "cell_type": "code",
   "execution_count": null,
   "id": "3a7d1596",
   "metadata": {},
   "outputs": [],
   "source": []
  },
  {
   "cell_type": "code",
   "execution_count": 8,
   "id": "75399782",
   "metadata": {},
   "outputs": [],
   "source": [
    "nome = 'Natanael'\n",
    "idade = 20\n",
    "telefone = 85989055014\n",
    "endereço = 'Rua 4'\n",
    "salario = '0 reais'"
   ]
  },
  {
   "cell_type": "code",
   "execution_count": 9,
   "id": "57da2e2d",
   "metadata": {},
   "outputs": [
    {
     "ename": "NameError",
     "evalue": "name 'endereco' is not defined",
     "output_type": "error",
     "traceback": [
      "\u001b[1;31m---------------------------------------------------------------------------\u001b[0m",
      "\u001b[1;31mNameError\u001b[0m                                 Traceback (most recent call last)",
      "\u001b[1;32mC:\\Users\\SALADE~1\\AppData\\Local\\Temp/ipykernel_4748/948205359.py\u001b[0m in \u001b[0;36m<module>\u001b[1;34m\u001b[0m\n\u001b[1;32m----> 1\u001b[1;33m \u001b[0mprint\u001b[0m\u001b[1;33m(\u001b[0m\u001b[1;34mf'Eu sou {nome}, eu tenho {idade}, você pode me contatar no número {telefone} ou me visitar no endereço {endereco}. Meu salário atual circula em torno de {salario}'\u001b[0m\u001b[1;33m)\u001b[0m\u001b[1;33m\u001b[0m\u001b[1;33m\u001b[0m\u001b[0m\n\u001b[0m",
      "\u001b[1;31mNameError\u001b[0m: name 'endereco' is not defined"
     ]
    }
   ],
   "source": [
    "print(f'Eu sou {nome}, eu tenho {idade}, você pode me contatar no número {telefone} ou me visitar no endereço {endereco}. Meu salário atual circula em torno de {salario}')"
   ]
  },
  {
   "cell_type": "code",
   "execution_count": 10,
   "id": "b09480f6",
   "metadata": {},
   "outputs": [
    {
     "name": "stdout",
     "output_type": "stream",
     "text": [
      "Eu sou Natanael, eu tenho 20, você pode me contatar no número 85989055014 ou me visitar no endereço Rua 4. Meu salário atual circula em torno de 0 reais\n"
     ]
    }
   ],
   "source": [
    "print(f'Eu sou {nome}, eu tenho {idade}, você pode me contatar no número {telefone} ou me visitar no endereço {endereço}. Meu salário atual circula em torno de {salario}')"
   ]
  },
  {
   "cell_type": "code",
   "execution_count": 11,
   "id": "af7d4769",
   "metadata": {},
   "outputs": [],
   "source": [
    "idade = '20 anos'"
   ]
  },
  {
   "cell_type": "code",
   "execution_count": 12,
   "id": "ce5a0e23",
   "metadata": {},
   "outputs": [
    {
     "ename": "NameError",
     "evalue": "name 'endereco' is not defined",
     "output_type": "error",
     "traceback": [
      "\u001b[1;31m---------------------------------------------------------------------------\u001b[0m",
      "\u001b[1;31mNameError\u001b[0m                                 Traceback (most recent call last)",
      "\u001b[1;32mC:\\Users\\SALADE~1\\AppData\\Local\\Temp/ipykernel_4748/948205359.py\u001b[0m in \u001b[0;36m<module>\u001b[1;34m\u001b[0m\n\u001b[1;32m----> 1\u001b[1;33m \u001b[0mprint\u001b[0m\u001b[1;33m(\u001b[0m\u001b[1;34mf'Eu sou {nome}, eu tenho {idade}, você pode me contatar no número {telefone} ou me visitar no endereço {endereco}. Meu salário atual circula em torno de {salario}'\u001b[0m\u001b[1;33m)\u001b[0m\u001b[1;33m\u001b[0m\u001b[1;33m\u001b[0m\u001b[0m\n\u001b[0m",
      "\u001b[1;31mNameError\u001b[0m: name 'endereco' is not defined"
     ]
    }
   ],
   "source": [
    "print(f'Eu sou {nome}, eu tenho {idade}, você pode me contatar no número {telefone} ou me visitar no endereço {endereco}. Meu salário atual circula em torno de {salario}')"
   ]
  },
  {
   "cell_type": "code",
   "execution_count": 13,
   "id": "188ed6cb",
   "metadata": {},
   "outputs": [
    {
     "name": "stdout",
     "output_type": "stream",
     "text": [
      "Eu sou Natanael, eu tenho 20 anos, você pode me contatar no número 85989055014 ou me visitar no endereço Rua 4. Meu salário atual circula em torno de 0 reais\n"
     ]
    }
   ],
   "source": [
    "print(f'Eu sou {nome}, eu tenho {idade}, você pode me contatar no número {telefone} ou me visitar no endereço {endereço}. Meu salário atual circula em torno de {salario}')"
   ]
  },
  {
   "cell_type": "code",
   "execution_count": null,
   "id": "b90eeafc",
   "metadata": {},
   "outputs": [],
   "source": []
  }
 ],
 "metadata": {
  "kernelspec": {
   "display_name": "Python 3 (ipykernel)",
   "language": "python",
   "name": "python3"
  },
  "language_info": {
   "codemirror_mode": {
    "name": "ipython",
    "version": 3
   },
   "file_extension": ".py",
   "mimetype": "text/x-python",
   "name": "python",
   "nbconvert_exporter": "python",
   "pygments_lexer": "ipython3",
   "version": "3.9.7"
  }
 },
 "nbformat": 4,
 "nbformat_minor": 5
}
