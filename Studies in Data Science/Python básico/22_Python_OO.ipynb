{
 "cells": [
  {
   "cell_type": "markdown",
   "metadata": {},
   "source": [
    "# Curso de Python Básico\n",
    "\n",
    "Este é um curso básico de python que tem o objetivo de apresentar a linguagem python de uma **maneira rápida e objetiva**. Vamos direto ao ponto nos conceitos básicos da programação e python com muita mão na massa! \n",
    "\n",
    "Neste curso, vamos trabalhar no **modo iterativo** do python. Porém, entenda que você pode trabalhar no modo script com várias linhas de código usando um arquivo no formato .py.\n",
    "\n",
    "Ao final desse Curso, espero que você se aprenda python e se motive cada vez mais em utilizar a linguagem para diversas tarefas e problemas do mundo real.\n",
    "\n",
    "Este notebook vai apenas passar pelos tópicos básicos em ordem:\n",
    "\n",
    "* 1. Conceitos Básicos\n",
    "    * 1.1 Variáveis\n",
    "    * 1.2 Comentários\n",
    "    * 1.3 Expressões\n",
    "    * 1.4 Tipos de dados\n",
    "        * 1.4.1 Inteiro\n",
    "        * 1.4.2 Float\n",
    "        * 1.4.3 String\n",
    "        * 1.4.4 Boelano\n",
    "        * 1.4.5 Nulo\n",
    "    * 1.5 Verificando e Modificando os diferentes Tipos de Dados\n",
    "    * 1.6 Imprimindo Valores\n",
    "    * 1.7 Operadores Aritméticos\n",
    "* 2. Estrutura de dados\n",
    "    * 2.1 Listas\n",
    "    * 2.2 Dicionários\n",
    "    * 2.3 Tuplas\n",
    "    * 2.4 Sets\n",
    "* 3. Operadores de comparação\n",
    "    * 3.1 Maior que\n",
    "    * 3.2 Menor que\n",
    "    * 3.3 Maior ou igual que\n",
    "    * 3.4 Menor ou igual que\n",
    "    * 3.5 Igual a\n",
    "    * 3.6 Diferente de\n",
    "    * 3.7 Pertence \n",
    "    * 3.8 Negação\n",
    "* 4. Operadores Lógicos\n",
    "    * 4.1 and\n",
    "    * 4.2 or\n",
    "* 5. Estrutura condicionais\n",
    "    * 5.1 if\n",
    "    * 5.2 else\n",
    "    * 5.3 elif\n",
    "* 6. Estrutura de Repetição\n",
    "    * 6.1 for \n",
    "    * 6.2 range\n",
    "    * 6.3 while \n",
    "    * 6.4 while-else\n",
    "    * 6.5 break\n",
    "\n",
    "* 7. funções\n",
    "    * 7.1 Funções SEM retorno\n",
    "    * 7.2 Funções COM retorno\n",
    "    * 7.3 Funções anônimas (lambda)\n",
    "    * 7.4 map e filter\n",
    "* 8. Python intermediário\n",
    "    * 8.1 List Comprehension\n",
    "    * 8.2 Generators\n",
    "    * 8.3 Tratando erros em Python\n",
    "    * 8.4 Lidando com String\n",
    "    * 8.5 Lidando com datas e tempo\n",
    "\n",
    "* 9. Python Orientação a Objetos\n",
    "    * 9.1 Classes e Objetos\n",
    "    * 9.2 Instância\n",
    "    * 9.3 Atributos\n",
    "    * 9.4 Construtor\n",
    "    * 9.5 Herança\n",
    "    * 9.6 Polimofismo\n",
    "  "
   ]
  },
  {
   "cell_type": "markdown",
   "metadata": {},
   "source": [
    "## 10. OO\n",
    "https://book.pythontips.com/en/latest/classes.html\n",
    "\n",
    "#### 10.1 Criando uma classe"
   ]
  },
  {
   "cell_type": "code",
   "execution_count": 95,
   "metadata": {
    "ExecuteTime": {
     "end_time": "2021-09-28T18:48:15.339504Z",
     "start_time": "2021-09-28T18:48:15.332504Z"
    }
   },
   "outputs": [
    {
     "name": "stdout",
     "output_type": "stream",
     "text": [
      "classmethod\n",
      "staticmethod\n"
     ]
    }
   ],
   "source": [
    "class Classe:\n",
    "    \n",
    "    @classmethod\n",
    "    def imprimirClass(self):\n",
    "        return 'classmethod'\n",
    "    \n",
    "    @staticmethod\n",
    "    def imprimirStatic():\n",
    "        return 'staticmethod'\n",
    "\n",
    "print(Classe.imprimirClass())\n",
    "print(Classe.imprimirStatic())"
   ]
  },
  {
   "cell_type": "code",
   "execution_count": 92,
   "metadata": {
    "ExecuteTime": {
     "end_time": "2021-09-28T18:47:55.111371Z",
     "start_time": "2021-09-28T18:47:55.107370Z"
    }
   },
   "outputs": [
    {
     "data": {
      "text/plain": [
       "'classmethod'"
      ]
     },
     "execution_count": 92,
     "metadata": {},
     "output_type": "execute_result"
    }
   ],
   "source": []
  },
  {
   "cell_type": "code",
   "execution_count": 93,
   "metadata": {
    "ExecuteTime": {
     "end_time": "2021-09-28T18:47:55.498849Z",
     "start_time": "2021-09-28T18:47:55.491849Z"
    }
   },
   "outputs": [
    {
     "data": {
      "text/plain": [
       "'staticmethod'"
      ]
     },
     "execution_count": 93,
     "metadata": {},
     "output_type": "execute_result"
    }
   ],
   "source": []
  },
  {
   "cell_type": "code",
   "execution_count": 65,
   "metadata": {
    "ExecuteTime": {
     "end_time": "2021-09-28T18:40:12.965888Z",
     "start_time": "2021-09-28T18:40:12.958902Z"
    }
   },
   "outputs": [],
   "source": [
    "class MinhaClasse(object):\n",
    "    \n",
    "    def __init__(self, variavel):\n",
    "        self.value = value\n",
    "        \n",
    "    def set_soma(self, value):\n",
    "        self.value = value\n",
    "    \n",
    "    def get_soma(self):\n",
    "        return self.value\n"
   ]
  },
  {
   "cell_type": "code",
   "execution_count": 54,
   "metadata": {
    "ExecuteTime": {
     "end_time": "2021-09-28T18:24:14.517596Z",
     "start_time": "2021-09-28T18:24:14.497592Z"
    }
   },
   "outputs": [
    {
     "ename": "NameError",
     "evalue": "name 'value' is not defined",
     "output_type": "error",
     "traceback": [
      "\u001b[1;31m---------------------------------------------------------------------------\u001b[0m",
      "\u001b[1;31mNameError\u001b[0m                                 Traceback (most recent call last)",
      "\u001b[1;32m<ipython-input-54-93968f9dbd9d>\u001b[0m in \u001b[0;36m<module>\u001b[1;34m\u001b[0m\n\u001b[1;32m----> 1\u001b[1;33m \u001b[0mMinhaClasse\u001b[0m\u001b[1;33m(\u001b[0m\u001b[1;36m5\u001b[0m\u001b[1;33m)\u001b[0m\u001b[1;33m\u001b[0m\u001b[1;33m\u001b[0m\u001b[0m\n\u001b[0m",
      "\u001b[1;32m<ipython-input-52-5ee30f0e2600>\u001b[0m in \u001b[0;36m__init__\u001b[1;34m(self, variavel, **kwargs)\u001b[0m\n\u001b[0;32m      2\u001b[0m \u001b[1;33m\u001b[0m\u001b[0m\n\u001b[0;32m      3\u001b[0m     \u001b[1;32mdef\u001b[0m \u001b[0m__init__\u001b[0m\u001b[1;33m(\u001b[0m\u001b[0mself\u001b[0m\u001b[1;33m,\u001b[0m \u001b[0mvariavel\u001b[0m\u001b[1;33m,\u001b[0m \u001b[1;33m**\u001b[0m\u001b[0mkwargs\u001b[0m\u001b[1;33m)\u001b[0m\u001b[1;33m:\u001b[0m\u001b[1;33m\u001b[0m\u001b[1;33m\u001b[0m\u001b[0m\n\u001b[1;32m----> 4\u001b[1;33m         \u001b[0mself\u001b[0m\u001b[1;33m.\u001b[0m\u001b[0mvalue\u001b[0m \u001b[1;33m=\u001b[0m \u001b[0mvalue\u001b[0m\u001b[1;33m\u001b[0m\u001b[1;33m\u001b[0m\u001b[0m\n\u001b[0m\u001b[0;32m      5\u001b[0m \u001b[1;33m\u001b[0m\u001b[0m\n\u001b[0;32m      6\u001b[0m     \u001b[1;32mdef\u001b[0m \u001b[0mset_soma\u001b[0m\u001b[1;33m(\u001b[0m\u001b[0mself\u001b[0m\u001b[1;33m,\u001b[0m \u001b[0mvalue\u001b[0m\u001b[1;33m)\u001b[0m\u001b[1;33m:\u001b[0m\u001b[1;33m\u001b[0m\u001b[1;33m\u001b[0m\u001b[0m\n",
      "\u001b[1;31mNameError\u001b[0m: name 'value' is not defined"
     ]
    }
   ],
   "source": [
    "MinhaClasse(5)"
   ]
  },
  {
   "cell_type": "code",
   "execution_count": 47,
   "metadata": {
    "ExecuteTime": {
     "end_time": "2021-09-28T18:22:28.089127Z",
     "start_time": "2021-09-28T18:22:28.082126Z"
    }
   },
   "outputs": [
    {
     "ename": "NameError",
     "evalue": "name 'value' is not defined",
     "output_type": "error",
     "traceback": [
      "\u001b[1;31m---------------------------------------------------------------------------\u001b[0m",
      "\u001b[1;31mNameError\u001b[0m                                 Traceback (most recent call last)",
      "\u001b[1;32m<ipython-input-47-e937018e2968>\u001b[0m in \u001b[0;36m<module>\u001b[1;34m\u001b[0m\n\u001b[1;32m----> 1\u001b[1;33m \u001b[0mobjeto\u001b[0m \u001b[1;33m=\u001b[0m \u001b[0mMinhaClasse\u001b[0m\u001b[1;33m(\u001b[0m\u001b[1;33m)\u001b[0m\u001b[1;33m\u001b[0m\u001b[1;33m\u001b[0m\u001b[0m\n\u001b[0m",
      "\u001b[1;32m<ipython-input-46-5195e3e067fd>\u001b[0m in \u001b[0;36m__init__\u001b[1;34m(self)\u001b[0m\n\u001b[0;32m      5\u001b[0m \u001b[1;33m\u001b[0m\u001b[0m\n\u001b[0;32m      6\u001b[0m     \u001b[1;32mdef\u001b[0m \u001b[0m__init__\u001b[0m\u001b[1;33m(\u001b[0m\u001b[0mself\u001b[0m\u001b[1;33m)\u001b[0m\u001b[1;33m:\u001b[0m\u001b[1;33m\u001b[0m\u001b[1;33m\u001b[0m\u001b[0m\n\u001b[1;32m----> 7\u001b[1;33m         \u001b[0mself\u001b[0m\u001b[1;33m.\u001b[0m\u001b[0mvalue\u001b[0m \u001b[1;33m=\u001b[0m \u001b[0mvalue\u001b[0m\u001b[1;33m\u001b[0m\u001b[1;33m\u001b[0m\u001b[0m\n\u001b[0m\u001b[0;32m      8\u001b[0m \u001b[1;33m\u001b[0m\u001b[0m\n\u001b[0;32m      9\u001b[0m     \u001b[1;32mdef\u001b[0m \u001b[0mset_soma\u001b[0m\u001b[1;33m(\u001b[0m\u001b[0mself\u001b[0m\u001b[1;33m,\u001b[0m \u001b[0mvalue\u001b[0m\u001b[1;33m)\u001b[0m\u001b[1;33m:\u001b[0m\u001b[1;33m\u001b[0m\u001b[1;33m\u001b[0m\u001b[0m\n",
      "\u001b[1;31mNameError\u001b[0m: name 'value' is not defined"
     ]
    }
   ],
   "source": [
    "objeto = MinhaClasse()"
   ]
  },
  {
   "cell_type": "code",
   "execution_count": 42,
   "metadata": {
    "ExecuteTime": {
     "end_time": "2021-09-28T18:21:03.737389Z",
     "start_time": "2021-09-28T18:21:03.722367Z"
    }
   },
   "outputs": [],
   "source": [
    "objeto.set_soma(20)"
   ]
  },
  {
   "cell_type": "code",
   "execution_count": 43,
   "metadata": {
    "ExecuteTime": {
     "end_time": "2021-09-28T18:21:11.950838Z",
     "start_time": "2021-09-28T18:21:11.939838Z"
    }
   },
   "outputs": [
    {
     "data": {
      "text/plain": [
       "20"
      ]
     },
     "execution_count": 43,
     "metadata": {},
     "output_type": "execute_result"
    }
   ],
   "source": [
    "objeto.get_soma()"
   ]
  },
  {
   "cell_type": "code",
   "execution_count": 14,
   "metadata": {
    "ExecuteTime": {
     "end_time": "2021-09-28T18:16:23.395562Z",
     "start_time": "2021-09-28T18:16:23.387562Z"
    }
   },
   "outputs": [
    {
     "data": {
      "text/plain": [
       "10"
      ]
     },
     "execution_count": 14,
     "metadata": {},
     "output_type": "execute_result"
    }
   ],
   "source": [
    "objeto._variavel"
   ]
  },
  {
   "cell_type": "code",
   "execution_count": 6,
   "metadata": {
    "ExecuteTime": {
     "end_time": "2021-09-28T18:15:11.652820Z",
     "start_time": "2021-09-28T18:15:11.643821Z"
    }
   },
   "outputs": [
    {
     "data": {
      "text/plain": [
       "15"
      ]
     },
     "execution_count": 6,
     "metadata": {},
     "output_type": "execute_result"
    }
   ],
   "source": [
    "objeto.soma(5)"
   ]
  },
  {
   "cell_type": "markdown",
   "metadata": {},
   "source": [
    "#### 10.2 Métodos Getters e Setters"
   ]
  },
  {
   "cell_type": "code",
   "execution_count": null,
   "metadata": {},
   "outputs": [],
   "source": [
    "class MinhaClasse(object):\n",
    "\n",
    "    def __init__(self, variavel):\n",
    "        # self.radius is an instance variable\n",
    "        self.variavel = variavel\n",
    "\n",
    "    def soma(self, value):\n",
    "        return self.variavel + value\n",
    "    \n",
    "    def __get_variavel__(self):\n",
    "        return self.variavel\n",
    "    \n",
    "    def __set_variavel__(self, new_value):\n",
    "        self.variavel = new_value"
   ]
  },
  {
   "cell_type": "code",
   "execution_count": null,
   "metadata": {},
   "outputs": [],
   "source": [
    "objeto = MinhaClasse(5)"
   ]
  },
  {
   "cell_type": "code",
   "execution_count": null,
   "metadata": {},
   "outputs": [],
   "source": [
    "objeto.__get_variavel__()"
   ]
  },
  {
   "cell_type": "code",
   "execution_count": null,
   "metadata": {},
   "outputs": [],
   "source": [
    "objeto.__set_variavel__(8)"
   ]
  },
  {
   "cell_type": "code",
   "execution_count": null,
   "metadata": {},
   "outputs": [],
   "source": [
    "objeto.__get_variavel__()"
   ]
  },
  {
   "cell_type": "code",
   "execution_count": null,
   "metadata": {},
   "outputs": [],
   "source": []
  }
 ],
 "metadata": {
  "kernelspec": {
   "display_name": "Python 3",
   "language": "python",
   "name": "python3"
  },
  "language_info": {
   "codemirror_mode": {
    "name": "ipython",
    "version": 3
   },
   "file_extension": ".py",
   "mimetype": "text/x-python",
   "name": "python",
   "nbconvert_exporter": "python",
   "pygments_lexer": "ipython3",
   "version": "3.8.11"
  }
 },
 "nbformat": 4,
 "nbformat_minor": 1
}
