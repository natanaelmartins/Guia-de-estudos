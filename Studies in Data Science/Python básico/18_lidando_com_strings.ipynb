{
 "cells": [
  {
   "cell_type": "markdown",
   "metadata": {},
   "source": [
    "# Curso de Python Básico\n",
    "\n",
    "Este é um curso básico de python que tem o objetivo de apresentar a linguagem python de uma **maneira rápida e objetiva**. Vamos direto ao ponto nos conceitos básicos da programação e python com muita mão na massa! \n",
    "\n",
    "Neste curso, vamos trabalhar no **modo iterativo** do python. Porém, entenda que você pode trabalhar no modo script com várias linhas de código usando um arquivo no formato .py.\n",
    "\n",
    "Ao final desse Curso, espero que você se aprenda python e se motive cada vez mais em utilizar a linguagem para diversas tarefas e problemas do mundo real.\n",
    "\n",
    "Este notebook vai apenas passar pelos tópicos básicos em ordem:\n",
    "\n",
    "* 8. Python intermediário\n",
    "    * 8.4 Lidando com String  "
   ]
  },
  {
   "cell_type": "markdown",
   "metadata": {},
   "source": [
    "#### 8.5 Lidando com String\n",
    "\n",
    "Uma String é uma sequência de caractéres. Você pode acessar um caractere cada vez com o operador []"
   ]
  },
  {
   "cell_type": "markdown",
   "metadata": {},
   "source": [
    "##### 8.5.1 Acessando String"
   ]
  },
  {
   "cell_type": "code",
   "execution_count": null,
   "metadata": {
    "ExecuteTime": {
     "end_time": "2021-08-27T18:00:41.938688Z",
     "start_time": "2021-08-27T18:00:41.933689Z"
    }
   },
   "outputs": [],
   "source": [
    "nome = 'Nicksson'"
   ]
  },
  {
   "cell_type": "code",
   "execution_count": null,
   "metadata": {
    "ExecuteTime": {
     "end_time": "2021-08-27T18:00:48.986639Z",
     "start_time": "2021-08-27T18:00:48.972637Z"
    }
   },
   "outputs": [],
   "source": [
    "nome[0]"
   ]
  },
  {
   "cell_type": "code",
   "execution_count": null,
   "metadata": {
    "ExecuteTime": {
     "end_time": "2021-08-27T18:01:16.539512Z",
     "start_time": "2021-08-27T18:01:16.532512Z"
    }
   },
   "outputs": [],
   "source": [
    "# fatiamento de string\n",
    "nome[-3:]"
   ]
  },
  {
   "cell_type": "code",
   "execution_count": null,
   "metadata": {
    "ExecuteTime": {
     "end_time": "2021-08-27T18:02:04.805287Z",
     "start_time": "2021-08-27T18:02:04.793286Z"
    }
   },
   "outputs": [],
   "source": [
    "# String são imutáveis\n",
    "nome[0] = P"
   ]
  },
  {
   "cell_type": "markdown",
   "metadata": {},
   "source": [
    "##### 8.5.2 Loops em String"
   ]
  },
  {
   "cell_type": "code",
   "execution_count": null,
   "metadata": {
    "ExecuteTime": {
     "end_time": "2021-08-27T18:04:07.493694Z",
     "start_time": "2021-08-27T18:04:07.487696Z"
    }
   },
   "outputs": [],
   "source": [
    "def count_word(letter, texto):\n",
    "    count = 0\n",
    "    for c in texto:\n",
    "        if c == letter:\n",
    "            count = count + 1\n",
    "    print(count)"
   ]
  },
  {
   "cell_type": "code",
   "execution_count": null,
   "metadata": {
    "ExecuteTime": {
     "end_time": "2021-08-27T18:04:22.504682Z",
     "start_time": "2021-08-27T18:04:22.493683Z"
    }
   },
   "outputs": [],
   "source": [
    "count_word('a', 'padaria')"
   ]
  },
  {
   "cell_type": "markdown",
   "metadata": {},
   "source": [
    "##### 8.5.3 Operador in "
   ]
  },
  {
   "cell_type": "code",
   "execution_count": null,
   "metadata": {
    "ExecuteTime": {
     "end_time": "2021-08-27T18:05:57.090226Z",
     "start_time": "2021-08-27T18:05:57.083232Z"
    }
   },
   "outputs": [],
   "source": [
    "'nick' in 'nicksson'"
   ]
  },
  {
   "cell_type": "code",
   "execution_count": null,
   "metadata": {
    "ExecuteTime": {
     "end_time": "2021-08-27T18:06:12.091024Z",
     "start_time": "2021-08-27T18:06:12.083026Z"
    }
   },
   "outputs": [],
   "source": [
    "'ss' not in 'nicksson'"
   ]
  },
  {
   "cell_type": "markdown",
   "metadata": {},
   "source": [
    "##### 8.5.4 Buscando palavras em String"
   ]
  },
  {
   "cell_type": "code",
   "execution_count": null,
   "metadata": {
    "ExecuteTime": {
     "end_time": "2021-08-27T18:06:47.386770Z",
     "start_time": "2021-08-27T18:06:47.378773Z"
    }
   },
   "outputs": [],
   "source": [
    "word = 'fruta'"
   ]
  },
  {
   "cell_type": "code",
   "execution_count": null,
   "metadata": {
    "ExecuteTime": {
     "end_time": "2021-08-27T18:06:56.186005Z",
     "start_time": "2021-08-27T18:06:56.171006Z"
    }
   },
   "outputs": [],
   "source": [
    "word.find('a')"
   ]
  },
  {
   "cell_type": "markdown",
   "metadata": {},
   "source": [
    "##### 8.5.5 Upper e Lower"
   ]
  },
  {
   "cell_type": "code",
   "execution_count": null,
   "metadata": {
    "ExecuteTime": {
     "end_time": "2021-08-27T18:07:23.560856Z",
     "start_time": "2021-08-27T18:07:23.547858Z"
    }
   },
   "outputs": [],
   "source": [
    "word.upper()"
   ]
  },
  {
   "cell_type": "code",
   "execution_count": null,
   "metadata": {
    "ExecuteTime": {
     "end_time": "2021-08-27T18:07:36.260085Z",
     "start_time": "2021-08-27T18:07:36.245087Z"
    }
   },
   "outputs": [],
   "source": [
    "word.lower()"
   ]
  },
  {
   "cell_type": "markdown",
   "metadata": {},
   "source": [
    "##### 8.5.6 Split"
   ]
  },
  {
   "cell_type": "code",
   "execution_count": 1,
   "metadata": {
    "ExecuteTime": {
     "end_time": "2021-09-27T19:25:52.468973Z",
     "start_time": "2021-09-27T19:25:52.456974Z"
    }
   },
   "outputs": [],
   "source": [
    "texto = 'você vai? Eu preciso ir?'"
   ]
  },
  {
   "cell_type": "code",
   "execution_count": 2,
   "metadata": {
    "ExecuteTime": {
     "end_time": "2021-09-27T19:25:58.225873Z",
     "start_time": "2021-09-27T19:25:58.200871Z"
    }
   },
   "outputs": [
    {
     "data": {
      "text/plain": [
       "['você vai', ' Eu preciso ir', '']"
      ]
     },
     "execution_count": 2,
     "metadata": {},
     "output_type": "execute_result"
    }
   ],
   "source": [
    "texto.split('?')"
   ]
  },
  {
   "cell_type": "code",
   "execution_count": null,
   "metadata": {},
   "outputs": [],
   "source": []
  }
 ],
 "metadata": {
  "kernelspec": {
   "display_name": "Python 3",
   "language": "python",
   "name": "python3"
  },
  "language_info": {
   "codemirror_mode": {
    "name": "ipython",
    "version": 3
   },
   "file_extension": ".py",
   "mimetype": "text/x-python",
   "name": "python",
   "nbconvert_exporter": "python",
   "pygments_lexer": "ipython3",
   "version": "3.8.11"
  }
 },
 "nbformat": 4,
 "nbformat_minor": 1
}
